{
 "cells": [
  {
   "cell_type": "markdown",
   "metadata": {},
   "source": [
    "# NeuroMANCER: System ID Tutorial\n",
    "\n",
    "This notebook outlines the basic structure of a training script for system identification with deep state space models.\n",
    "\n",
    "We begin by importing the necessary components from NeuroMANCER, as well as specifying some hyperparameters used to define the structure and optimization of our model:"
   ]
  },
  {
   "cell_type": "code",
   "execution_count": 1,
   "metadata": {},
   "outputs": [],
   "source": [
    "import torch\n",
    "import torch.nn.functional as F\n",
    "from torch.utils.data import DataLoader\n",
    "import slim\n",
    "import psl\n",
    "\n",
    "from neuromancer import blocks, estimators, dynamics, arg\n",
    "from neuromancer.activations import activations\n",
    "from neuromancer.visuals import VisualizerOpen\n",
    "from neuromancer.trainer import Trainer\n",
    "from neuromancer.problem import Problem\n",
    "from neuromancer.constraint import Objective\n",
    "from neuromancer.simulators import OpenLoopSimulator, MultiSequenceOpenLoopSimulator\n",
    "from neuromancer.callbacks import SysIDCallback\n",
    "from neuromancer.loggers import BasicLogger, MLFlowLogger\n",
    "from neuromancer.dataset import read_file, normalize_data, split_sequence_data, SequenceDataset\n",
    "from neuromancer.constraint import Variable\n",
    "\n",
    "\n",
    "# params for configuration\n",
    "params = {\n",
    "    \"nsteps\": 32,             # Prediction horizon length.\n",
    "    \"nsim\": 10000,            # Number of temporal datapoints in the simulated dataset.\n",
    "    \"data_seed\": 408,         # Random seed for the dataset emulator.\n",
    "    \"norm\": [\"U\", \"D\", \"Y\"],  # Norms imposed on raw variables. U: inputs, D: disturbances, Y: outputs.\n",
    "    \"Q_y\": 1.0,               # Output tracking penalty weight.\n",
    "    \"Q_e\": 1.0,               # State estimator hidden prediction penalty weight.\n",
    "    \"Q_sub\": 1.0,             # Linear maps regularization weight.\n",
    "    \"Q_con_x\": 1.0,           # Hidden state constraints penalty weight.\n",
    "    \"Q_dx\": 0.1,              # Penalty weight on hidden state difference in one time step. \n",
    "    \"savedir\": \"test\",        # Where should your trained model and plots be saved (temp).\n",
    "    \"eval_metric\": \"loop_dev_ref_loss\",   # Metric for model selection and early stopping.\n",
    "    \"metrics\": [\"nstep_dev_loss\", \"loop_dev_loss\", \"best_loop_dev_loss\",\n",
    "               \"nstep_dev_ref_loss\", \"loop_dev_ref_loss\"],   # Metrics to be logged.\n",
    "    \"epochs\": 300,            # Number of training epochs.\n",
    "    \"lr\": 0.001,              # Learning rate.\n",
    "    \"patience\": 100,          # Early stopping patience.\n",
    "    \"warmup\": 10,             # Early stopping warmup.\n",
    "}\n",
    "device = \"cuda:0\" if torch.cuda.is_available() else \"cpu\""
   ]
  },
  {
   "cell_type": "markdown",
   "metadata": {},
   "source": [
    "## Datasets\n",
    "NeuroMANCER currently supports both static and emulated datasets (generated from governing equations for various systems) via [PSL](https://github.com/pnnl/psl). Here, we define get_sequence_dataloaders() function for generating dataloader from the raw  data given as dictionary.  \n",
    "For more details see datasets tutorial."
   ]
  },
  {
   "cell_type": "code",
   "execution_count": 2,
   "metadata": {},
   "outputs": [
    {
     "name": "stderr",
     "output_type": "stream",
     "text": [
      "C:\\Users\\drgo694\\AppData\\Local\\Continuum\\anaconda3\\envs\\neuromancer\\lib\\site-packages\\ipykernel\\ipkernel.py:283: DeprecationWarning: `should_run_async` will not call `transform_cell` automatically in the future. Please pass the result to `transformed_cell` argument and any exception that happen during thetransform in `preprocessing_exc_tuple` in IPython 7.17 and above.\n",
      "  and should_run_async(code)\n"
     ]
    }
   ],
   "source": [
    "def get_sequence_dataloaders(\n",
    "    data, nsteps, moving_horizon=False, norm_type=\"zero-one\", split_ratio=None, num_workers=0,\n",
    "):\n",
    "    \"\"\"This will generate dataloaders and open-loop sequence dictionaries for a given dictionary of\n",
    "    data. Dataloaders are hard-coded for full-batch training to match NeuroMANCER's original\n",
    "    training setup.\n",
    "\n",
    "    :param data: (dict str: np.array or list[dict str: np.array]) data dictionary or list of data\n",
    "        dictionaries; if latter is provided, multi-sequence datasets are created and splits are\n",
    "        computed over the number of sequences rather than their lengths.\n",
    "    :param nsteps: (int) length of windowed subsequences for N-step training.\n",
    "    :param moving_horizon: (bool) whether to use moving horizon batching.\n",
    "    :param norm_type: (str) type of normalization; see function `normalize_data` for more info.\n",
    "    :param split_ratio: (list float) percentage of data in train and development splits; see\n",
    "        function `split_sequence_data` for more info.\n",
    "    \"\"\"\n",
    "\n",
    "    data, _ = normalize_data(data, norm_type)\n",
    "    train_data, dev_data, test_data = split_sequence_data(data, nsteps, moving_horizon, split_ratio)\n",
    "\n",
    "    train_data = SequenceDataset(\n",
    "        train_data,\n",
    "        nsteps=nsteps,\n",
    "        moving_horizon=moving_horizon,\n",
    "        name=\"train\",\n",
    "    )\n",
    "    dev_data = SequenceDataset(\n",
    "        dev_data,\n",
    "        nsteps=nsteps,\n",
    "        moving_horizon=moving_horizon,\n",
    "        name=\"dev\",\n",
    "    )\n",
    "    test_data = SequenceDataset(\n",
    "        test_data,\n",
    "        nsteps=nsteps,\n",
    "        moving_horizon=moving_horizon,\n",
    "        name=\"test\",\n",
    "    )\n",
    "\n",
    "    train_loop = train_data.get_full_sequence()\n",
    "    dev_loop = dev_data.get_full_sequence()\n",
    "    test_loop = test_data.get_full_sequence()\n",
    "\n",
    "    train_data = DataLoader(\n",
    "        train_data,\n",
    "        batch_size=len(train_data),\n",
    "        shuffle=False,\n",
    "        collate_fn=train_data.collate_fn,\n",
    "        num_workers=num_workers,\n",
    "    )\n",
    "    dev_data = DataLoader(\n",
    "        dev_data,\n",
    "        batch_size=len(dev_data),\n",
    "        shuffle=False,\n",
    "        collate_fn=dev_data.collate_fn,\n",
    "        num_workers=num_workers,\n",
    "    )\n",
    "    test_data = DataLoader(\n",
    "        test_data,\n",
    "        batch_size=len(test_data),\n",
    "        shuffle=False,\n",
    "        collate_fn=test_data.collate_fn,\n",
    "        num_workers=num_workers,\n",
    "    )\n",
    "\n",
    "    return (train_data, dev_data, test_data), (train_loop, dev_loop, test_loop), train_data.dataset.dims\n"
   ]
  },
  {
   "cell_type": "code",
   "execution_count": 3,
   "metadata": {},
   "outputs": [],
   "source": [
    "# load dictionary dataset with raw data\n",
    "# for available systems in PSL library check: psl.systems.keys()\n",
    "# for available datasets in PSL library check: psl.datasets.keys()\n",
    "\n",
    "system = 'aero'         # keyword of selected system\n",
    "\n",
    "#  load raw dataset\n",
    "if system in psl.emulators:\n",
    "    data = psl.emulators[system](nsim=nsim, ninit=0, seed=args.data_seed).simulate()\n",
    "elif system in psl.datasets:\n",
    "    data = read_file(psl.datasets[system])\n",
    "else:\n",
    "    data = read_file(system)"
   ]
  },
  {
   "cell_type": "markdown",
   "metadata": {},
   "source": [
    "Processed dataset format:  \n",
    "nsim = number of time steps in the dataset time series  \n",
    "nsteps = legth of the prediction horizon  \n",
    "Y = observed outputs  \n",
    "U = inputs  \n",
    "D = disturbances  \n",
    "Yp = past trajectories generated as Y[0:-nsteps]  \n",
    "Yf = future trajectories generated as Y[nesteps:]  \n",
    "data format in dataset dictionaries: train_data['key']: torch.Size([batch size (prediction horizon), number of batches, number of variables])"
   ]
  },
  {
   "cell_type": "code",
   "execution_count": 4,
   "metadata": {},
   "outputs": [],
   "source": [
    "#  Train, Development, Test sets - nstep and loop format\n",
    "nstep_data, loop_data, dims = get_sequence_dataloaders(data, params['nsteps'])\n",
    "train_data, dev_data, test_data = nstep_data\n",
    "train_loop, dev_loop, test_loop = loop_data\n",
    "\n",
    "# input, output dimensions\n",
    "nu = dims['U'][1]\n",
    "ny = dims['Y'][1]"
   ]
  },
  {
   "cell_type": "markdown",
   "metadata": {},
   "source": [
    "## State Estimator\n",
    "\n",
    "To generate initial states during $N$-step training, we make use of state estimators which use the past outputs of the system to estimate the next state variable. NeuroMANCER provides a host of parametric state estimators for this purpose; in this case, we'll use a fully connected neural network. Each state estimator in neuromancer.estimators represents more generic component class representing arbitrary nn.Module with input_keys and output_keys for mapping neuromancer variabels.  \n",
    "For more details see components and constraints tutorials."
   ]
  },
  {
   "cell_type": "code",
   "execution_count": 5,
   "metadata": {},
   "outputs": [
    {
     "name": "stdout",
     "output_type": "stream",
     "text": [
      "['Yp']\n",
      "['x0_estimator', 'reg_error_estimator']\n",
      "estimator(Yp) -> x0_estimator, reg_error_estimator\n"
     ]
    },
    {
     "name": "stderr",
     "output_type": "stream",
     "text": [
      "C:\\Users\\drgo694\\AppData\\Local\\Continuum\\anaconda3\\envs\\neuromancer\\lib\\site-packages\\ipykernel\\ipkernel.py:283: DeprecationWarning: `should_run_async` will not call `transform_cell` automatically in the future. Please pass the result to `transformed_cell` argument and any exception that happen during thetransform in `preprocessing_exc_tuple` in IPython 7.17 and above.\n",
      "  and should_run_async(code)\n"
     ]
    }
   ],
   "source": [
    "activation = activations['relu']\n",
    "linmap = slim.maps['linear']\n",
    "\n",
    "nx = 90  # size of the latent variables\n",
    "estimator = estimators.MLPEstimator(\n",
    "    {**dims, \"x0\": (nx,)},\n",
    "    nsteps=params['nsteps'],  # future window Nf\n",
    "    window_size=params['nsteps'],  # past window Np <= Nf\n",
    "    bias=True,\n",
    "    linear_map=linmap,\n",
    "    nonlin=activation,\n",
    "    hsizes=[90, 120, 90],\n",
    "    input_keys=[\"Yp\"],\n",
    "    linargs={},\n",
    "    name='estimator',\n",
    ")\n",
    "\n",
    "# input output keys of the estimator \n",
    "print(estimator.input_keys)\n",
    "print(estimator.output_keys)\n",
    "\n",
    "# dynamics_model mapping of input keys to output keys\n",
    "print(estimator)\n",
    "# x0 = estimator(Yp)\n",
    "# x0: initial values of latent variables estimated from time lagged outputs Yp"
   ]
  },
  {
   "cell_type": "markdown",
   "metadata": {},
   "source": [
    "## State Space Model\n",
    "\n",
    "Next, we define our block-structured state space model (SSM) as neuromancer component. These models divide system dynamics into separate functional components to decouple the behaviors of inputs, state transitions, and outputs. Using the `BlockSSM` constructor, we can build SSMs with arbitrary components, each with their own nonlinearities and structured weight parameterizations.  \n",
    "For more details on how to construct arbitrary acyclic computational graphs with see components tutorial."
   ]
  },
  {
   "cell_type": "code",
   "execution_count": 6,
   "metadata": {},
   "outputs": [
    {
     "name": "stdout",
     "output_type": "stream",
     "text": [
      "['Uf', 'Yf', 'x0_estimator']\n",
      "['fU_dynamics', 'X_pred_dynamics', 'Y_pred_dynamics', 'reg_error_dynamics']\n",
      "dynamics(Uf, Yf, x0_estimator) -> fU_dynamics, X_pred_dynamics, Y_pred_dynamics, reg_error_dynamics\n"
     ]
    }
   ],
   "source": [
    "# define blocks\n",
    "fx = blocks.RNN(nx, nx, linear_map=linmap,\n",
    "                nonlin=activations['softexp'], hsizes=[60, 60])\n",
    "linargs = {\"sigma_min\": 0.5, \"sigma_max\": 1.0}\n",
    "fy = slim.maps['softSVD'](nx, ny, linargs=linargs)\n",
    "fu = blocks.MLP(nu, nx, hsizes=[60, 60]) if nu != 0 else None\n",
    "\n",
    "# define state space model\n",
    "dynamics_model = dynamics.BlockSSM(fx, fy, fu=fu, name='dynamics', xou=torch.add,\n",
    "                                   input_key_map={\"x0\": f\"x0_{estimator.name}\"})\n",
    "\n",
    "# input output keys of the SSM \n",
    "print(dynamics_model.input_keys)\n",
    "print(dynamics_model.output_keys)\n",
    "\n",
    "# dynamics_model mapping of input keys to output keys\n",
    "print(dynamics_model)\n",
    "# Yf = dynamics_model(x0, Uf)\n",
    "# Uf: future control actions\n",
    "# Yf: predicted outputs"
   ]
  },
  {
   "cell_type": "markdown",
   "metadata": {},
   "source": [
    "## Neuromancer Variables\n",
    "Here we leverage Neuromancer's variable abstraction for intuitive high-level definition of objective temrs and constraints. Each variable has assigned uniqye name that either exists as a key in the dataset dictionary (e.g., \"Yf\"), or is listed as output key in one of our components."
   ]
  },
  {
   "cell_type": "code",
   "execution_count": 7,
   "metadata": {},
   "outputs": [],
   "source": [
    "# bounds\n",
    "xmin = -0.2\n",
    "xmax = 1.2\n",
    "dxudmin = -0.5\n",
    "dxudmax = 0.5\n",
    "\n",
    "# loss terms and constraints definition via variable class: neuromancer variable declaration\n",
    "yhat = Variable(f\"Y_pred_{dynamics_model.name}\")\n",
    "y = Variable(\"Yf\")\n",
    "x0 = Variable(f\"x0_{estimator.name}\")\n",
    "xhat = Variable(f\"X_pred_{dynamics_model.name}\")\n",
    "est_reg = Variable(f\"reg_error_{estimator.name}\")\n",
    "dyn_reg = Variable(f\"reg_error_{dynamics_model.name}\")"
   ]
  },
  {
   "cell_type": "markdown",
   "metadata": {},
   "source": [
    "## Objective Terms\n",
    "To optimize the weights of our model, we first use mean-squared error as our objective to minimize the error between ground-truth observables and those predicted by our SSM. We additionally impose a loss on the estimator that ensures its state predictions align with ground-truth state observations. Further we add state smoothening penalty, and regularizations terms imposed on the model weights.  \n",
    "\n",
    "In addition to minimizing the mean-squared error of predicted and expected observables, we may also want to impose further constraints on different model components to enforce certain model behaviors. Our first constraint will ensure the smoothness of state transitions by minimizing the mean-squared error between consecutive state predictions. Our second and third constraints impose lower and upper bounds on output observations, specifically the interval $[-0.2, 1.2]$.\n",
    "\n",
    "For more details see constraints tutorial."
   ]
  },
  {
   "cell_type": "code",
   "execution_count": 8,
   "metadata": {},
   "outputs": [],
   "source": [
    "# define loss function terms\n",
    "reference_loss = params['Q_y']*((yhat == y)^2)\n",
    "estimator_loss = params['Q_e']*((x0[1:] == xhat[-1, :-1, :])^2)\n",
    "state_smoothing = params['Q_dx']*((xhat[1:] == xhat[:-1])^2)\n",
    "regularization = params['Q_sub']*((est_reg + dyn_reg == 0)^2)\n",
    "# define constraints\n",
    "observation_lower_bound_penalty = params['Q_con_x']*(yhat > xmin)\n",
    "observation_upper_bound_penalty = params['Q_con_x']*(yhat < xmax)\n",
    "# custom loss and constraints names used as metrics\n",
    "reference_loss.name = \"ref_loss\"\n",
    "estimator_loss.name = \"arrival_cost\"\n",
    "regularization.name = \"reg_error\"\n",
    "observation_lower_bound_penalty.name = \"y_low_bound_error\"\n",
    "observation_upper_bound_penalty.name = \"y_up_bound_error\""
   ]
  },
  {
   "cell_type": "markdown",
   "metadata": {},
   "source": [
    "## Putting It All Together\n",
    "\n",
    "Having defined our model components, objective terms, and constraints, we can now combine each into an optimization problem using NeuroMANCER's `Problem` class. This will produce our final model, connecting all of the underlying components necessary to process our data, generate predictions, and optimize the model components."
   ]
  },
  {
   "cell_type": "code",
   "execution_count": 9,
   "metadata": {},
   "outputs": [],
   "source": [
    "# list of objectives and constraints\n",
    "objectives = [regularization, reference_loss, estimator_loss]\n",
    "constraints = [\n",
    "    state_smoothing,\n",
    "    observation_lower_bound_penalty,\n",
    "    observation_upper_bound_penalty,\n",
    "]\n",
    "# list of components\n",
    "components = [estimator, dynamics_model]\n",
    "# constrained optimization problem = objectives + constraints + components\n",
    "model = Problem(objectives, constraints, components)\n",
    "model = model.to(device)"
   ]
  },
  {
   "cell_type": "markdown",
   "metadata": {},
   "source": [
    "## Training Our Model\n",
    "\n",
    "For training models, NeuroMANCER provides a `Trainer` class which encapsulates all of the training and evaluation logic necessary for $N$-step training, and additionally provides options for experiment logging, visualization, and roll-out simulation in the loop. To get started, we instantiate PyTorch's AdamW optimizer with our model's parameters. We then provide some components which are specific to the NeuroMANCER training regime:\n",
    "\n",
    "* The `OpenLoopSimulator` is used to simulate a full roll-out of the SSM starting from a single initial state. Unlike the $N$-step simulation used during training, this is meant to evaluate the performance of the model in a free-running manner rather than over short windows of time.\n",
    "* The `BasicLogger` is used to output user-specified metrics during training and evaluation. It also handles saving model checkpoints.\n",
    "* The `VisualizerOpen` class generates plots showing predicted vs. ground-truth outputs for both $N$-step and open-loop model simulations, providing a useful visual assessment of model performance.\n",
    "\n",
    "With all of these components defined, we can then instantiate our `Trainer` class. We provide the model and dataset, the optimizer, and the aforementioned helper components. We additionally specify the number of epochs, an evaluation metric used to determine the best-performing model, and a patience value; this latter value determines how many epochs should be completed without any improvement in the evaluation metric before discontinuing training in order to avoid overfitting and wasted computation."
   ]
  },
  {
   "cell_type": "code",
   "execution_count": 10,
   "metadata": {},
   "outputs": [
    {
     "name": "stdout",
     "output_type": "stream",
     "text": [
      "None\n",
      "Number of parameters: 85022\n"
     ]
    }
   ],
   "source": [
    "# define callback\n",
    "simulator = OpenLoopSimulator(\n",
    "    model, train_loop, dev_loop, test_loop, eval_sim=True, device=device,\n",
    ") if isinstance(train_loop, dict) else MultiSequenceOpenLoopSimulator(\n",
    "    model, train_loop, dev_loop, test_loop, eval_sim=True, device=device,\n",
    ")\n",
    "visualizer = VisualizerOpen(\n",
    "    dynamics_model,\n",
    "    1,\n",
    "    params['savedir'],\n",
    "    training_visuals=False,\n",
    "    trace_movie=False,\n",
    ")\n",
    "callback = SysIDCallback(simulator, visualizer)\n",
    "# define logger\n",
    "logger = BasicLogger(args=None, savedir= params['savedir'], verbosity=1, stdout=params['metrics'])\n",
    "# select optimizer\n",
    "optimizer = torch.optim.AdamW(model.parameters(), lr=params['lr'])\n",
    "\n",
    "# define trainer\n",
    "trainer = Trainer(\n",
    "    model,\n",
    "    train_data,\n",
    "    dev_data,\n",
    "    test_data,\n",
    "    optimizer,\n",
    "    callback=callback,\n",
    "    logger=logger,\n",
    "    epochs=params['epochs'],\n",
    "    eval_metric=params['eval_metric'],\n",
    "    patience=params['patience'],\n",
    "    warmup=params['warmup'],\n",
    "    device=device,\n",
    ")"
   ]
  },
  {
   "cell_type": "markdown",
   "metadata": {},
   "source": [
    "Now we enter the training loop by calling the `train()` method on the `trainer` object; upon training completion, this method will return the best-observed model according to the evaluation metric specified previously."
   ]
  },
  {
   "cell_type": "code",
   "execution_count": 11,
   "metadata": {},
   "outputs": [
    {
     "name": "stdout",
     "output_type": "stream",
     "text": [
      "epoch: 0\tnstep_dev_ref_loss: 0.26854\tnstep_dev_loss: 0.40080\tloop_dev_ref_loss: 0.26823\tloop_dev_loss: nan\teltime:  2.37130\n",
      "epoch: 1\tnstep_dev_ref_loss: 0.23133\tnstep_dev_loss: 0.27595\tloop_dev_ref_loss: 0.23088\tloop_dev_loss: nan\teltime:  2.54381\n",
      "epoch: 2\tnstep_dev_ref_loss: 0.20094\tnstep_dev_loss: 0.25966\tloop_dev_ref_loss: 0.20041\tloop_dev_loss: nan\teltime:  2.71248\n",
      "epoch: 3\tnstep_dev_ref_loss: 0.17595\tnstep_dev_loss: 0.26476\tloop_dev_ref_loss: 0.17539\tloop_dev_loss: nan\teltime:  2.87120\n",
      "epoch: 4\tnstep_dev_ref_loss: 0.15645\tnstep_dev_loss: 0.23739\tloop_dev_ref_loss: 0.15592\tloop_dev_loss: nan\teltime:  3.05249\n",
      "epoch: 5\tnstep_dev_ref_loss: 0.14360\tnstep_dev_loss: 0.20404\tloop_dev_ref_loss: 0.14316\tloop_dev_loss: nan\teltime:  3.40792\n",
      "epoch: 6\tnstep_dev_ref_loss: 0.13841\tnstep_dev_loss: 0.19182\tloop_dev_ref_loss: 0.13812\tloop_dev_loss: nan\teltime:  3.77115\n",
      "epoch: 7\tnstep_dev_ref_loss: 0.13882\tnstep_dev_loss: 0.20022\tloop_dev_ref_loss: 0.13862\tloop_dev_loss: nan\teltime:  3.93970\n",
      "epoch: 8\tnstep_dev_ref_loss: 0.13969\tnstep_dev_loss: 0.20865\tloop_dev_ref_loss: 0.13941\tloop_dev_loss: nan\teltime:  4.12294\n",
      "epoch: 9\tnstep_dev_ref_loss: 0.13817\tnstep_dev_loss: 0.20337\tloop_dev_ref_loss: 0.13769\tloop_dev_loss: nan\teltime:  4.27895\n",
      "epoch: 10\tnstep_dev_ref_loss: 0.13454\tnstep_dev_loss: 0.18747\tloop_dev_ref_loss: 0.13390\tloop_dev_loss: nan\teltime:  4.48989\n",
      "epoch: 11\tnstep_dev_ref_loss: 0.12988\tnstep_dev_loss: 0.17059\tloop_dev_ref_loss: 0.12916\tloop_dev_loss: nan\teltime:  4.63107\n",
      "epoch: 12\tnstep_dev_ref_loss: 0.12491\tnstep_dev_loss: 0.15900\tloop_dev_ref_loss: 0.12421\tloop_dev_loss: nan\teltime:  4.79698\n",
      "epoch: 13\tnstep_dev_ref_loss: 0.12009\tnstep_dev_loss: 0.15352\tloop_dev_ref_loss: 0.11944\tloop_dev_loss: nan\teltime:  4.98186\n",
      "epoch: 14\tnstep_dev_ref_loss: 0.11570\tnstep_dev_loss: 0.15011\tloop_dev_ref_loss: 0.11513\tloop_dev_loss: nan\teltime:  5.15118\n",
      "epoch: 15\tnstep_dev_ref_loss: 0.11199\tnstep_dev_loss: 0.14504\tloop_dev_ref_loss: 0.11148\tloop_dev_loss: nan\teltime:  5.38258\n",
      "epoch: 16\tnstep_dev_ref_loss: 0.10909\tnstep_dev_loss: 0.13824\tloop_dev_ref_loss: 0.10864\tloop_dev_loss: nan\teltime:  5.53199\n",
      "epoch: 17\tnstep_dev_ref_loss: 0.10701\tnstep_dev_loss: 0.13214\tloop_dev_ref_loss: 0.10662\tloop_dev_loss: nan\teltime:  5.68294\n",
      "epoch: 18\tnstep_dev_ref_loss: 0.10565\tnstep_dev_loss: 0.12882\tloop_dev_ref_loss: 0.10531\tloop_dev_loss: nan\teltime:  5.85420\n",
      "epoch: 19\tnstep_dev_ref_loss: 0.10478\tnstep_dev_loss: 0.12834\tloop_dev_ref_loss: 0.10448\tloop_dev_loss: nan\teltime:  6.13576\n",
      "epoch: 20\tnstep_dev_ref_loss: 0.10414\tnstep_dev_loss: 0.12895\tloop_dev_ref_loss: 0.10388\tloop_dev_loss: nan\teltime:  6.46577\n",
      "epoch: 21\tnstep_dev_ref_loss: 0.10349\tnstep_dev_loss: 0.12874\tloop_dev_ref_loss: 0.10326\tloop_dev_loss: nan\teltime:  6.64673\n",
      "epoch: 22\tnstep_dev_ref_loss: 0.10268\tnstep_dev_loss: 0.12719\tloop_dev_ref_loss: 0.10247\tloop_dev_loss: nan\teltime:  6.81316\n",
      "epoch: 23\tnstep_dev_ref_loss: 0.10165\tnstep_dev_loss: 0.12515\tloop_dev_ref_loss: 0.10145\tloop_dev_loss: nan\teltime:  7.00004\n",
      "epoch: 24\tnstep_dev_ref_loss: 0.10036\tnstep_dev_loss: 0.12377\tloop_dev_ref_loss: 0.10018\tloop_dev_loss: nan\teltime:  7.37421\n",
      "epoch: 25\tnstep_dev_ref_loss: 0.09881\tnstep_dev_loss: 0.12352\tloop_dev_ref_loss: 0.09863\tloop_dev_loss: nan\teltime:  7.62340\n",
      "epoch: 26\tnstep_dev_ref_loss: 0.09695\tnstep_dev_loss: 0.12387\tloop_dev_ref_loss: 0.09678\tloop_dev_loss: nan\teltime:  7.79416\n",
      "epoch: 27\tnstep_dev_ref_loss: 0.09478\tnstep_dev_loss: 0.12391\tloop_dev_ref_loss: 0.09460\tloop_dev_loss: nan\teltime:  7.96601\n",
      "epoch: 28\tnstep_dev_ref_loss: 0.09232\tnstep_dev_loss: 0.12318\tloop_dev_ref_loss: 0.09212\tloop_dev_loss: nan\teltime:  8.14777\n",
      "epoch: 29\tnstep_dev_ref_loss: 0.08971\tnstep_dev_loss: 0.12195\tloop_dev_ref_loss: 0.08950\tloop_dev_loss: nan\teltime:  8.34794\n",
      "epoch: 30\tnstep_dev_ref_loss: 0.08720\tnstep_dev_loss: 0.12087\tloop_dev_ref_loss: 0.08697\tloop_dev_loss: nan\teltime:  8.50161\n",
      "epoch: 31\tnstep_dev_ref_loss: 0.08505\tnstep_dev_loss: 0.12048\tloop_dev_ref_loss: 0.08479\tloop_dev_loss: nan\teltime:  8.68271\n",
      "epoch: 32\tnstep_dev_ref_loss: 0.08344\tnstep_dev_loss: 0.12085\tloop_dev_ref_loss: 0.08318\tloop_dev_loss: nan\teltime:  8.84425\n",
      "epoch: 33\tnstep_dev_ref_loss: 0.08250\tnstep_dev_loss: 0.12179\tloop_dev_ref_loss: 0.08223\tloop_dev_loss: nan\teltime:  9.03620\n",
      "epoch: 34\tnstep_dev_ref_loss: 0.08222\tnstep_dev_loss: 0.12314\tloop_dev_ref_loss: 0.08195\tloop_dev_loss: nan\teltime:  9.38163\n",
      "epoch: 35\tnstep_dev_ref_loss: 0.08250\tnstep_dev_loss: 0.12485\tloop_dev_ref_loss: 0.08224\tloop_dev_loss: nan\teltime:  9.64981\n",
      "epoch: 36\tnstep_dev_ref_loss: 0.08314\tnstep_dev_loss: 0.12678\tloop_dev_ref_loss: 0.08290\tloop_dev_loss: nan\teltime:  9.81348\n",
      "epoch: 37\tnstep_dev_ref_loss: 0.08387\tnstep_dev_loss: 0.12861\tloop_dev_ref_loss: 0.08365\tloop_dev_loss: nan\teltime:  9.97500\n",
      "epoch: 38\tnstep_dev_ref_loss: 0.08441\tnstep_dev_loss: 0.12982\tloop_dev_ref_loss: 0.08421\tloop_dev_loss: nan\teltime:  10.13724\n",
      "epoch: 39\tnstep_dev_ref_loss: 0.08455\tnstep_dev_loss: 0.13000\tloop_dev_ref_loss: 0.08436\tloop_dev_loss: nan\teltime:  10.31944\n",
      "epoch: 40\tnstep_dev_ref_loss: 0.08421\tnstep_dev_loss: 0.12905\tloop_dev_ref_loss: 0.08403\tloop_dev_loss: nan\teltime:  10.48655\n",
      "epoch: 41\tnstep_dev_ref_loss: 0.08346\tnstep_dev_loss: 0.12727\tloop_dev_ref_loss: 0.08329\tloop_dev_loss: nan\teltime:  10.88352\n",
      "epoch: 42\tnstep_dev_ref_loss: 0.08247\tnstep_dev_loss: 0.12508\tloop_dev_ref_loss: 0.08230\tloop_dev_loss: nan\teltime:  11.07507\n",
      "epoch: 43\tnstep_dev_ref_loss: 0.08141\tnstep_dev_loss: 0.12281\tloop_dev_ref_loss: 0.08124\tloop_dev_loss: nan\teltime:  11.24808\n",
      "epoch: 44\tnstep_dev_ref_loss: 0.08039\tnstep_dev_loss: 0.12062\tloop_dev_ref_loss: 0.08023\tloop_dev_loss: nan\teltime:  11.43826\n",
      "epoch: 45\tnstep_dev_ref_loss: 0.07947\tnstep_dev_loss: 0.11853\tloop_dev_ref_loss: 0.07931\tloop_dev_loss: nan\teltime:  11.59032\n",
      "epoch: 46\tnstep_dev_ref_loss: 0.07862\tnstep_dev_loss: 0.11647\tloop_dev_ref_loss: 0.07847\tloop_dev_loss: nan\teltime:  11.76109\n",
      "epoch: 47\tnstep_dev_ref_loss: 0.07783\tnstep_dev_loss: 0.11438\tloop_dev_ref_loss: 0.07767\tloop_dev_loss: nan\teltime:  12.10527\n",
      "epoch: 48\tnstep_dev_ref_loss: 0.07704\tnstep_dev_loss: 0.11227\tloop_dev_ref_loss: 0.07689\tloop_dev_loss: nan\teltime:  12.28679\n",
      "epoch: 49\tnstep_dev_ref_loss: 0.07627\tnstep_dev_loss: 0.11017\tloop_dev_ref_loss: 0.07612\tloop_dev_loss: nan\teltime:  12.45754\n",
      "epoch: 50\tnstep_dev_ref_loss: 0.07554\tnstep_dev_loss: 0.10816\tloop_dev_ref_loss: 0.07539\tloop_dev_loss: nan\teltime:  12.61868\n",
      "epoch: 51\tnstep_dev_ref_loss: 0.07487\tnstep_dev_loss: 0.10631\tloop_dev_ref_loss: 0.07472\tloop_dev_loss: nan\teltime:  12.82025\n",
      "epoch: 52\tnstep_dev_ref_loss: 0.07425\tnstep_dev_loss: 0.10466\tloop_dev_ref_loss: 0.07410\tloop_dev_loss: nan\teltime:  13.01186\n",
      "epoch: 53\tnstep_dev_ref_loss: 0.07366\tnstep_dev_loss: 0.10319\tloop_dev_ref_loss: 0.07351\tloop_dev_loss: nan\teltime:  13.19334\n",
      "epoch: 54\tnstep_dev_ref_loss: 0.07305\tnstep_dev_loss: 0.10186\tloop_dev_ref_loss: 0.07290\tloop_dev_loss: nan\teltime:  13.35498\n",
      "epoch: 55\tnstep_dev_ref_loss: 0.07235\tnstep_dev_loss: 0.10057\tloop_dev_ref_loss: 0.07220\tloop_dev_loss: nan\teltime:  13.55709\n",
      "epoch: 56\tnstep_dev_ref_loss: 0.07153\tnstep_dev_loss: 0.09923\tloop_dev_ref_loss: 0.07138\tloop_dev_loss: nan\teltime:  13.70831\n",
      "epoch: 57\tnstep_dev_ref_loss: 0.07058\tnstep_dev_loss: 0.09783\tloop_dev_ref_loss: 0.07043\tloop_dev_loss: nan\teltime:  13.87025\n",
      "epoch: 58\tnstep_dev_ref_loss: 0.06954\tnstep_dev_loss: 0.09637\tloop_dev_ref_loss: 0.06939\tloop_dev_loss: nan\teltime:  14.03098\n",
      "epoch: 59\tnstep_dev_ref_loss: 0.06847\tnstep_dev_loss: 0.09492\tloop_dev_ref_loss: 0.06831\tloop_dev_loss: nan\teltime:  14.21160\n",
      "epoch: 60\tnstep_dev_ref_loss: 0.06743\tnstep_dev_loss: 0.09358\tloop_dev_ref_loss: 0.06727\tloop_dev_loss: nan\teltime:  14.38801\n",
      "epoch: 61\tnstep_dev_ref_loss: 0.06647\tnstep_dev_loss: 0.09239\tloop_dev_ref_loss: 0.06631\tloop_dev_loss: nan\teltime:  14.73408\n",
      "epoch: 62\tnstep_dev_ref_loss: 0.06560\tnstep_dev_loss: 0.09135\tloop_dev_ref_loss: 0.06545\tloop_dev_loss: nan\teltime:  14.91238\n",
      "epoch: 63\tnstep_dev_ref_loss: 0.06480\tnstep_dev_loss: 0.09042\tloop_dev_ref_loss: 0.06465\tloop_dev_loss: nan\teltime:  15.10314\n",
      "epoch: 64\tnstep_dev_ref_loss: 0.06405\tnstep_dev_loss: 0.08955\tloop_dev_ref_loss: 0.06390\tloop_dev_loss: nan\teltime:  15.32537\n",
      "epoch: 65\tnstep_dev_ref_loss: 0.06330\tnstep_dev_loss: 0.08870\tloop_dev_ref_loss: 0.06315\tloop_dev_loss: nan\teltime:  15.48600\n"
     ]
    },
    {
     "name": "stdout",
     "output_type": "stream",
     "text": [
      "epoch: 66\tnstep_dev_ref_loss: 0.06253\tnstep_dev_loss: 0.08783\tloop_dev_ref_loss: 0.06238\tloop_dev_loss: nan\teltime:  15.67574\n",
      "epoch: 67\tnstep_dev_ref_loss: 0.06173\tnstep_dev_loss: 0.08690\tloop_dev_ref_loss: 0.06158\tloop_dev_loss: nan\teltime:  15.85808\n",
      "epoch: 68\tnstep_dev_ref_loss: 0.06090\tnstep_dev_loss: 0.08591\tloop_dev_ref_loss: 0.06075\tloop_dev_loss: nan\teltime:  16.04566\n",
      "epoch: 69\tnstep_dev_ref_loss: 0.06005\tnstep_dev_loss: 0.08481\tloop_dev_ref_loss: 0.05990\tloop_dev_loss: nan\teltime:  16.21630\n",
      "epoch: 70\tnstep_dev_ref_loss: 0.05921\tnstep_dev_loss: 0.08368\tloop_dev_ref_loss: 0.05905\tloop_dev_loss: nan\teltime:  16.38885\n",
      "epoch: 71\tnstep_dev_ref_loss: 0.05838\tnstep_dev_loss: 0.08257\tloop_dev_ref_loss: 0.05822\tloop_dev_loss: nan\teltime:  16.57400\n",
      "epoch: 72\tnstep_dev_ref_loss: 0.05761\tnstep_dev_loss: 0.08157\tloop_dev_ref_loss: 0.05744\tloop_dev_loss: nan\teltime:  16.76549\n",
      "epoch: 73\tnstep_dev_ref_loss: 0.05687\tnstep_dev_loss: 0.08068\tloop_dev_ref_loss: 0.05671\tloop_dev_loss: nan\teltime:  16.94003\n",
      "epoch: 74\tnstep_dev_ref_loss: 0.05619\tnstep_dev_loss: 0.08000\tloop_dev_ref_loss: 0.05603\tloop_dev_loss: nan\teltime:  17.12054\n",
      "epoch: 75\tnstep_dev_ref_loss: 0.05554\tnstep_dev_loss: 0.07949\tloop_dev_ref_loss: 0.05538\tloop_dev_loss: nan\teltime:  17.31451\n",
      "epoch: 76\tnstep_dev_ref_loss: 0.05487\tnstep_dev_loss: 0.07900\tloop_dev_ref_loss: 0.05471\tloop_dev_loss: nan\teltime:  17.55870\n",
      "epoch: 77\tnstep_dev_ref_loss: 0.05416\tnstep_dev_loss: 0.07844\tloop_dev_ref_loss: 0.05401\tloop_dev_loss: nan\teltime:  17.75904\n",
      "epoch: 78\tnstep_dev_ref_loss: 0.05343\tnstep_dev_loss: 0.07788\tloop_dev_ref_loss: 0.05327\tloop_dev_loss: nan\teltime:  17.96588\n",
      "epoch: 79\tnstep_dev_ref_loss: 0.05269\tnstep_dev_loss: 0.07738\tloop_dev_ref_loss: 0.05253\tloop_dev_loss: nan\teltime:  18.16764\n",
      "epoch: 80\tnstep_dev_ref_loss: 0.05195\tnstep_dev_loss: 0.07695\tloop_dev_ref_loss: 0.05179\tloop_dev_loss: nan\teltime:  18.38374\n",
      "epoch: 81\tnstep_dev_ref_loss: 0.05122\tnstep_dev_loss: 0.07660\tloop_dev_ref_loss: 0.05107\tloop_dev_loss: nan\teltime:  18.58115\n",
      "epoch: 82\tnstep_dev_ref_loss: 0.05052\tnstep_dev_loss: 0.07635\tloop_dev_ref_loss: 0.05037\tloop_dev_loss: nan\teltime:  18.76304\n",
      "epoch: 83\tnstep_dev_ref_loss: 0.04983\tnstep_dev_loss: 0.07617\tloop_dev_ref_loss: 0.04968\tloop_dev_loss: nan\teltime:  18.96449\n",
      "epoch: 84\tnstep_dev_ref_loss: 0.04914\tnstep_dev_loss: 0.07596\tloop_dev_ref_loss: 0.04900\tloop_dev_loss: nan\teltime:  19.13645\n",
      "epoch: 85\tnstep_dev_ref_loss: 0.04843\tnstep_dev_loss: 0.07561\tloop_dev_ref_loss: 0.04829\tloop_dev_loss: nan\teltime:  19.39277\n",
      "epoch: 86\tnstep_dev_ref_loss: 0.04770\tnstep_dev_loss: 0.07516\tloop_dev_ref_loss: 0.04757\tloop_dev_loss: nan\teltime:  19.58227\n",
      "epoch: 87\tnstep_dev_ref_loss: 0.04700\tnstep_dev_loss: 0.07474\tloop_dev_ref_loss: 0.04686\tloop_dev_loss: nan\teltime:  19.80766\n",
      "epoch: 88\tnstep_dev_ref_loss: 0.04631\tnstep_dev_loss: 0.07440\tloop_dev_ref_loss: 0.04618\tloop_dev_loss: nan\teltime:  20.01935\n",
      "epoch: 89\tnstep_dev_ref_loss: 0.04566\tnstep_dev_loss: 0.07412\tloop_dev_ref_loss: 0.04552\tloop_dev_loss: nan\teltime:  20.20443\n",
      "epoch: 90\tnstep_dev_ref_loss: 0.04503\tnstep_dev_loss: 0.07383\tloop_dev_ref_loss: 0.04489\tloop_dev_loss: nan\teltime:  20.38794\n",
      "epoch: 91\tnstep_dev_ref_loss: 0.04443\tnstep_dev_loss: 0.07348\tloop_dev_ref_loss: 0.04429\tloop_dev_loss: nan\teltime:  20.57500\n",
      "epoch: 92\tnstep_dev_ref_loss: 0.04386\tnstep_dev_loss: 0.07306\tloop_dev_ref_loss: 0.04372\tloop_dev_loss: nan\teltime:  20.77074\n",
      "epoch: 93\tnstep_dev_ref_loss: 0.04333\tnstep_dev_loss: 0.07266\tloop_dev_ref_loss: 0.04319\tloop_dev_loss: nan\teltime:  20.97322\n",
      "epoch: 94\tnstep_dev_ref_loss: 0.04284\tnstep_dev_loss: 0.07227\tloop_dev_ref_loss: 0.04270\tloop_dev_loss: nan\teltime:  21.17305\n",
      "epoch: 95\tnstep_dev_ref_loss: 0.04240\tnstep_dev_loss: 0.07189\tloop_dev_ref_loss: 0.04226\tloop_dev_loss: nan\teltime:  21.39745\n",
      "epoch: 96\tnstep_dev_ref_loss: 0.04201\tnstep_dev_loss: 0.07157\tloop_dev_ref_loss: 0.04187\tloop_dev_loss: nan\teltime:  21.59293\n",
      "epoch: 97\tnstep_dev_ref_loss: 0.04168\tnstep_dev_loss: 0.07132\tloop_dev_ref_loss: 0.04154\tloop_dev_loss: nan\teltime:  21.79653\n",
      "epoch: 98\tnstep_dev_ref_loss: 0.04140\tnstep_dev_loss: 0.07118\tloop_dev_ref_loss: 0.04126\tloop_dev_loss: nan\teltime:  22.00505\n",
      "epoch: 99\tnstep_dev_ref_loss: 0.04118\tnstep_dev_loss: 0.07113\tloop_dev_ref_loss: 0.04104\tloop_dev_loss: nan\teltime:  22.21288\n",
      "epoch: 100\tnstep_dev_ref_loss: 0.04099\tnstep_dev_loss: 0.07115\tloop_dev_ref_loss: 0.04086\tloop_dev_loss: nan\teltime:  22.39140\n",
      "epoch: 101\tnstep_dev_ref_loss: 0.04083\tnstep_dev_loss: 0.07115\tloop_dev_ref_loss: 0.04070\tloop_dev_loss: nan\teltime:  22.60035\n",
      "epoch: 102\tnstep_dev_ref_loss: 0.04069\tnstep_dev_loss: 0.07119\tloop_dev_ref_loss: 0.04057\tloop_dev_loss: nan\teltime:  22.78155\n",
      "epoch: 103\tnstep_dev_ref_loss: 0.04059\tnstep_dev_loss: 0.07132\tloop_dev_ref_loss: 0.04047\tloop_dev_loss: nan\teltime:  22.98465\n",
      "epoch: 104\tnstep_dev_ref_loss: 0.04054\tnstep_dev_loss: 0.07158\tloop_dev_ref_loss: 0.04043\tloop_dev_loss: nan\teltime:  23.18390\n",
      "epoch: 105\tnstep_dev_ref_loss: 0.04054\tnstep_dev_loss: 0.07192\tloop_dev_ref_loss: 0.04043\tloop_dev_loss: nan\teltime:  23.36431\n",
      "epoch: 106\tnstep_dev_ref_loss: 0.04058\tnstep_dev_loss: 0.07230\tloop_dev_ref_loss: 0.04048\tloop_dev_loss: nan\teltime:  23.55417\n",
      "epoch: 107\tnstep_dev_ref_loss: 0.04065\tnstep_dev_loss: 0.07267\tloop_dev_ref_loss: 0.04057\tloop_dev_loss: nan\teltime:  23.72275\n",
      "epoch: 108\tnstep_dev_ref_loss: 0.04077\tnstep_dev_loss: 0.07305\tloop_dev_ref_loss: 0.04070\tloop_dev_loss: nan\teltime:  23.91566\n",
      "epoch: 109\tnstep_dev_ref_loss: 0.04094\tnstep_dev_loss: 0.07349\tloop_dev_ref_loss: 0.04089\tloop_dev_loss: nan\teltime:  24.12411\n",
      "epoch: 110\tnstep_dev_ref_loss: 0.04117\tnstep_dev_loss: 0.07401\tloop_dev_ref_loss: 0.04113\tloop_dev_loss: nan\teltime:  24.31161\n",
      "epoch: 111\tnstep_dev_ref_loss: 0.04144\tnstep_dev_loss: 0.07461\tloop_dev_ref_loss: 0.04143\tloop_dev_loss: nan\teltime:  24.50809\n",
      "epoch: 112\tnstep_dev_ref_loss: 0.04175\tnstep_dev_loss: 0.07523\tloop_dev_ref_loss: 0.04175\tloop_dev_loss: nan\teltime:  24.71753\n",
      "epoch: 113\tnstep_dev_ref_loss: 0.04208\tnstep_dev_loss: 0.07584\tloop_dev_ref_loss: 0.04210\tloop_dev_loss: nan\teltime:  24.90702\n",
      "epoch: 114\tnstep_dev_ref_loss: 0.04242\tnstep_dev_loss: 0.07646\tloop_dev_ref_loss: 0.04246\tloop_dev_loss: nan\teltime:  25.10848\n",
      "epoch: 115\tnstep_dev_ref_loss: 0.04278\tnstep_dev_loss: 0.07711\tloop_dev_ref_loss: 0.04285\tloop_dev_loss: nan\teltime:  25.35383\n",
      "epoch: 116\tnstep_dev_ref_loss: 0.04316\tnstep_dev_loss: 0.07778\tloop_dev_ref_loss: 0.04325\tloop_dev_loss: nan\teltime:  25.58513\n",
      "epoch: 117\tnstep_dev_ref_loss: 0.04353\tnstep_dev_loss: 0.07839\tloop_dev_ref_loss: 0.04364\tloop_dev_loss: nan\teltime:  25.78931\n",
      "epoch: 118\tnstep_dev_ref_loss: 0.04386\tnstep_dev_loss: 0.07888\tloop_dev_ref_loss: 0.04398\tloop_dev_loss: nan\teltime:  25.98858\n",
      "epoch: 119\tnstep_dev_ref_loss: 0.04415\tnstep_dev_loss: 0.07925\tloop_dev_ref_loss: 0.04429\tloop_dev_loss: nan\teltime:  26.20757\n",
      "epoch: 120\tnstep_dev_ref_loss: 0.04440\tnstep_dev_loss: 0.07955\tloop_dev_ref_loss: 0.04455\tloop_dev_loss: nan\teltime:  26.40205\n",
      "epoch: 121\tnstep_dev_ref_loss: 0.04463\tnstep_dev_loss: 0.07983\tloop_dev_ref_loss: 0.04480\tloop_dev_loss: nan\teltime:  26.58806\n",
      "epoch: 122\tnstep_dev_ref_loss: 0.04485\tnstep_dev_loss: 0.08010\tloop_dev_ref_loss: 0.04502\tloop_dev_loss: nan\teltime:  26.78653\n",
      "epoch: 123\tnstep_dev_ref_loss: 0.04502\tnstep_dev_loss: 0.08031\tloop_dev_ref_loss: 0.04521\tloop_dev_loss: nan\teltime:  26.95577\n",
      "epoch: 124\tnstep_dev_ref_loss: 0.04515\tnstep_dev_loss: 0.08042\tloop_dev_ref_loss: 0.04534\tloop_dev_loss: nan\teltime:  27.14806\n",
      "epoch: 125\tnstep_dev_ref_loss: 0.04523\tnstep_dev_loss: 0.08044\tloop_dev_ref_loss: 0.04542\tloop_dev_loss: nan\teltime:  27.33071\n",
      "epoch: 126\tnstep_dev_ref_loss: 0.04528\tnstep_dev_loss: 0.08041\tloop_dev_ref_loss: 0.04548\tloop_dev_loss: nan\teltime:  27.51298\n",
      "epoch: 127\tnstep_dev_ref_loss: 0.04531\tnstep_dev_loss: 0.08038\tloop_dev_ref_loss: 0.04551\tloop_dev_loss: nan\teltime:  27.66618\n",
      "epoch: 128\tnstep_dev_ref_loss: 0.04533\tnstep_dev_loss: 0.08035\tloop_dev_ref_loss: 0.04552\tloop_dev_loss: nan\teltime:  27.85799\n",
      "epoch: 129\tnstep_dev_ref_loss: 0.04532\tnstep_dev_loss: 0.08027\tloop_dev_ref_loss: 0.04551\tloop_dev_loss: nan\teltime:  28.06743\n",
      "epoch: 130\tnstep_dev_ref_loss: 0.04528\tnstep_dev_loss: 0.08013\tloop_dev_ref_loss: 0.04547\tloop_dev_loss: nan\teltime:  28.29482\n"
     ]
    },
    {
     "name": "stdout",
     "output_type": "stream",
     "text": [
      "epoch: 131\tnstep_dev_ref_loss: 0.04522\tnstep_dev_loss: 0.07994\tloop_dev_ref_loss: 0.04540\tloop_dev_loss: nan\teltime:  28.53019\n",
      "epoch: 132\tnstep_dev_ref_loss: 0.04516\tnstep_dev_loss: 0.07978\tloop_dev_ref_loss: 0.04534\tloop_dev_loss: nan\teltime:  28.75160\n",
      "epoch: 133\tnstep_dev_ref_loss: 0.04510\tnstep_dev_loss: 0.07965\tloop_dev_ref_loss: 0.04526\tloop_dev_loss: nan\teltime:  28.97900\n",
      "epoch: 134\tnstep_dev_ref_loss: 0.04502\tnstep_dev_loss: 0.07952\tloop_dev_ref_loss: 0.04518\tloop_dev_loss: nan\teltime:  29.22738\n",
      "epoch: 135\tnstep_dev_ref_loss: 0.04493\tnstep_dev_loss: 0.07935\tloop_dev_ref_loss: 0.04509\tloop_dev_loss: nan\teltime:  29.53764\n",
      "epoch: 136\tnstep_dev_ref_loss: 0.04482\tnstep_dev_loss: 0.07916\tloop_dev_ref_loss: 0.04497\tloop_dev_loss: nan\teltime:  29.86926\n",
      "epoch: 137\tnstep_dev_ref_loss: 0.04470\tnstep_dev_loss: 0.07896\tloop_dev_ref_loss: 0.04485\tloop_dev_loss: nan\teltime:  30.05914\n",
      "epoch: 138\tnstep_dev_ref_loss: 0.04458\tnstep_dev_loss: 0.07879\tloop_dev_ref_loss: 0.04472\tloop_dev_loss: nan\teltime:  30.28553\n",
      "epoch: 139\tnstep_dev_ref_loss: 0.04444\tnstep_dev_loss: 0.07863\tloop_dev_ref_loss: 0.04458\tloop_dev_loss: nan\teltime:  30.49948\n",
      "epoch: 140\tnstep_dev_ref_loss: 0.04430\tnstep_dev_loss: 0.07846\tloop_dev_ref_loss: 0.04442\tloop_dev_loss: nan\teltime:  30.69918\n",
      "epoch: 141\tnstep_dev_ref_loss: 0.04414\tnstep_dev_loss: 0.07827\tloop_dev_ref_loss: 0.04426\tloop_dev_loss: nan\teltime:  30.91633\n",
      "epoch: 142\tnstep_dev_ref_loss: 0.04397\tnstep_dev_loss: 0.07809\tloop_dev_ref_loss: 0.04409\tloop_dev_loss: nan\teltime:  31.11016\n",
      "epoch: 143\tnstep_dev_ref_loss: 0.04380\tnstep_dev_loss: 0.07791\tloop_dev_ref_loss: 0.04391\tloop_dev_loss: nan\teltime:  31.31712\n",
      "epoch: 144\tnstep_dev_ref_loss: 0.04362\tnstep_dev_loss: 0.07773\tloop_dev_ref_loss: 0.04373\tloop_dev_loss: nan\teltime:  31.53053\n",
      "epoch: 145\tnstep_dev_ref_loss: 0.04344\tnstep_dev_loss: 0.07754\tloop_dev_ref_loss: 0.04355\tloop_dev_loss: nan\teltime:  31.73897\n",
      "epoch: 146\tnstep_dev_ref_loss: 0.04326\tnstep_dev_loss: 0.07736\tloop_dev_ref_loss: 0.04336\tloop_dev_loss: nan\teltime:  31.96112\n",
      "epoch: 147\tnstep_dev_ref_loss: 0.04306\tnstep_dev_loss: 0.07717\tloop_dev_ref_loss: 0.04316\tloop_dev_loss: nan\teltime:  32.17230\n",
      "epoch: 148\tnstep_dev_ref_loss: 0.04286\tnstep_dev_loss: 0.07699\tloop_dev_ref_loss: 0.04295\tloop_dev_loss: nan\teltime:  32.37236\n",
      "epoch: 149\tnstep_dev_ref_loss: 0.04266\tnstep_dev_loss: 0.07682\tloop_dev_ref_loss: 0.04275\tloop_dev_loss: nan\teltime:  32.59240\n",
      "epoch: 150\tnstep_dev_ref_loss: 0.04246\tnstep_dev_loss: 0.07666\tloop_dev_ref_loss: 0.04254\tloop_dev_loss: nan\teltime:  32.79319\n",
      "epoch: 151\tnstep_dev_ref_loss: 0.04225\tnstep_dev_loss: 0.07650\tloop_dev_ref_loss: 0.04233\tloop_dev_loss: nan\teltime:  33.06465\n",
      "epoch: 152\tnstep_dev_ref_loss: 0.04204\tnstep_dev_loss: 0.07632\tloop_dev_ref_loss: 0.04212\tloop_dev_loss: nan\teltime:  33.25979\n",
      "epoch: 153\tnstep_dev_ref_loss: 0.04183\tnstep_dev_loss: 0.07614\tloop_dev_ref_loss: 0.04191\tloop_dev_loss: nan\teltime:  33.49155\n",
      "epoch: 154\tnstep_dev_ref_loss: 0.04163\tnstep_dev_loss: 0.07596\tloop_dev_ref_loss: 0.04170\tloop_dev_loss: nan\teltime:  33.69873\n",
      "epoch: 155\tnstep_dev_ref_loss: 0.04142\tnstep_dev_loss: 0.07579\tloop_dev_ref_loss: 0.04149\tloop_dev_loss: nan\teltime:  33.92002\n",
      "epoch: 156\tnstep_dev_ref_loss: 0.04122\tnstep_dev_loss: 0.07562\tloop_dev_ref_loss: 0.04128\tloop_dev_loss: nan\teltime:  34.12688\n",
      "epoch: 157\tnstep_dev_ref_loss: 0.04102\tnstep_dev_loss: 0.07547\tloop_dev_ref_loss: 0.04108\tloop_dev_loss: nan\teltime:  34.37773\n",
      "epoch: 158\tnstep_dev_ref_loss: 0.04082\tnstep_dev_loss: 0.07531\tloop_dev_ref_loss: 0.04087\tloop_dev_loss: nan\teltime:  34.58468\n",
      "epoch: 159\tnstep_dev_ref_loss: 0.04061\tnstep_dev_loss: 0.07515\tloop_dev_ref_loss: 0.04067\tloop_dev_loss: nan\teltime:  34.80773\n",
      "epoch: 160\tnstep_dev_ref_loss: 0.04041\tnstep_dev_loss: 0.07498\tloop_dev_ref_loss: 0.04046\tloop_dev_loss: nan\teltime:  35.02537\n",
      "epoch: 161\tnstep_dev_ref_loss: 0.04021\tnstep_dev_loss: 0.07483\tloop_dev_ref_loss: 0.04026\tloop_dev_loss: nan\teltime:  35.24235\n",
      "epoch: 162\tnstep_dev_ref_loss: 0.04001\tnstep_dev_loss: 0.07469\tloop_dev_ref_loss: 0.04006\tloop_dev_loss: nan\teltime:  35.45049\n",
      "epoch: 163\tnstep_dev_ref_loss: 0.03982\tnstep_dev_loss: 0.07455\tloop_dev_ref_loss: 0.03987\tloop_dev_loss: nan\teltime:  35.65199\n",
      "epoch: 164\tnstep_dev_ref_loss: 0.03963\tnstep_dev_loss: 0.07440\tloop_dev_ref_loss: 0.03967\tloop_dev_loss: nan\teltime:  35.84343\n",
      "epoch: 165\tnstep_dev_ref_loss: 0.03944\tnstep_dev_loss: 0.07425\tloop_dev_ref_loss: 0.03948\tloop_dev_loss: nan\teltime:  36.06702\n",
      "epoch: 166\tnstep_dev_ref_loss: 0.03925\tnstep_dev_loss: 0.07410\tloop_dev_ref_loss: 0.03928\tloop_dev_loss: nan\teltime:  36.27639\n",
      "epoch: 167\tnstep_dev_ref_loss: 0.03906\tnstep_dev_loss: 0.07397\tloop_dev_ref_loss: 0.03909\tloop_dev_loss: nan\teltime:  36.46621\n",
      "epoch: 168\tnstep_dev_ref_loss: 0.03887\tnstep_dev_loss: 0.07383\tloop_dev_ref_loss: 0.03890\tloop_dev_loss: nan\teltime:  36.63980\n",
      "epoch: 169\tnstep_dev_ref_loss: 0.03868\tnstep_dev_loss: 0.07368\tloop_dev_ref_loss: 0.03871\tloop_dev_loss: nan\teltime:  36.85159\n",
      "epoch: 170\tnstep_dev_ref_loss: 0.03849\tnstep_dev_loss: 0.07354\tloop_dev_ref_loss: 0.03852\tloop_dev_loss: nan\teltime:  37.03308\n",
      "epoch: 171\tnstep_dev_ref_loss: 0.03830\tnstep_dev_loss: 0.07342\tloop_dev_ref_loss: 0.03833\tloop_dev_loss: nan\teltime:  37.27272\n",
      "epoch: 172\tnstep_dev_ref_loss: 0.03812\tnstep_dev_loss: 0.07332\tloop_dev_ref_loss: 0.03815\tloop_dev_loss: nan\teltime:  37.47019\n",
      "epoch: 173\tnstep_dev_ref_loss: 0.03795\tnstep_dev_loss: 0.07320\tloop_dev_ref_loss: 0.03797\tloop_dev_loss: nan\teltime:  37.67564\n",
      "epoch: 174\tnstep_dev_ref_loss: 0.03776\tnstep_dev_loss: 0.07306\tloop_dev_ref_loss: 0.03778\tloop_dev_loss: nan\teltime:  37.86390\n",
      "epoch: 175\tnstep_dev_ref_loss: 0.03759\tnstep_dev_loss: 0.07293\tloop_dev_ref_loss: 0.03760\tloop_dev_loss: nan\teltime:  38.12302\n",
      "epoch: 176\tnstep_dev_ref_loss: 0.03741\tnstep_dev_loss: 0.07282\tloop_dev_ref_loss: 0.03743\tloop_dev_loss: nan\teltime:  38.28619\n",
      "epoch: 177\tnstep_dev_ref_loss: 0.03724\tnstep_dev_loss: 0.07274\tloop_dev_ref_loss: 0.03725\tloop_dev_loss: nan\teltime:  38.49515\n",
      "epoch: 178\tnstep_dev_ref_loss: 0.03706\tnstep_dev_loss: 0.07264\tloop_dev_ref_loss: 0.03707\tloop_dev_loss: nan\teltime:  38.66473\n",
      "epoch: 179\tnstep_dev_ref_loss: 0.03688\tnstep_dev_loss: 0.07251\tloop_dev_ref_loss: 0.03689\tloop_dev_loss: nan\teltime:  38.88150\n",
      "epoch: 180\tnstep_dev_ref_loss: 0.03670\tnstep_dev_loss: 0.07239\tloop_dev_ref_loss: 0.03670\tloop_dev_loss: nan\teltime:  39.09152\n",
      "epoch: 181\tnstep_dev_ref_loss: 0.03653\tnstep_dev_loss: 0.07229\tloop_dev_ref_loss: 0.03653\tloop_dev_loss: nan\teltime:  39.28527\n",
      "epoch: 182\tnstep_dev_ref_loss: 0.03636\tnstep_dev_loss: 0.07219\tloop_dev_ref_loss: 0.03636\tloop_dev_loss: nan\teltime:  39.52504\n",
      "epoch: 183\tnstep_dev_ref_loss: 0.03619\tnstep_dev_loss: 0.07209\tloop_dev_ref_loss: 0.03618\tloop_dev_loss: nan\teltime:  39.75307\n",
      "epoch: 184\tnstep_dev_ref_loss: 0.03602\tnstep_dev_loss: 0.07201\tloop_dev_ref_loss: 0.03601\tloop_dev_loss: nan\teltime:  39.96650\n",
      "epoch: 185\tnstep_dev_ref_loss: 0.03585\tnstep_dev_loss: 0.07193\tloop_dev_ref_loss: 0.03585\tloop_dev_loss: nan\teltime:  40.16957\n",
      "epoch: 186\tnstep_dev_ref_loss: 0.03568\tnstep_dev_loss: 0.07185\tloop_dev_ref_loss: 0.03567\tloop_dev_loss: nan\teltime:  40.37849\n",
      "epoch: 187\tnstep_dev_ref_loss: 0.03551\tnstep_dev_loss: 0.07176\tloop_dev_ref_loss: 0.03550\tloop_dev_loss: nan\teltime:  40.55360\n",
      "epoch: 188\tnstep_dev_ref_loss: 0.03534\tnstep_dev_loss: 0.07166\tloop_dev_ref_loss: 0.03532\tloop_dev_loss: nan\teltime:  40.73257\n",
      "epoch: 189\tnstep_dev_ref_loss: 0.03517\tnstep_dev_loss: 0.07158\tloop_dev_ref_loss: 0.03515\tloop_dev_loss: nan\teltime:  40.90770\n",
      "epoch: 190\tnstep_dev_ref_loss: 0.03501\tnstep_dev_loss: 0.07150\tloop_dev_ref_loss: 0.03498\tloop_dev_loss: nan\teltime:  41.08695\n",
      "epoch: 191\tnstep_dev_ref_loss: 0.03484\tnstep_dev_loss: 0.07143\tloop_dev_ref_loss: 0.03482\tloop_dev_loss: nan\teltime:  41.27747\n",
      "epoch: 192\tnstep_dev_ref_loss: 0.03468\tnstep_dev_loss: 0.07136\tloop_dev_ref_loss: 0.03465\tloop_dev_loss: nan\teltime:  41.46851\n",
      "epoch: 193\tnstep_dev_ref_loss: 0.03451\tnstep_dev_loss: 0.07129\tloop_dev_ref_loss: 0.03448\tloop_dev_loss: nan\teltime:  41.65047\n",
      "epoch: 194\tnstep_dev_ref_loss: 0.03434\tnstep_dev_loss: 0.07122\tloop_dev_ref_loss: 0.03431\tloop_dev_loss: nan\teltime:  41.82013\n",
      "epoch: 195\tnstep_dev_ref_loss: 0.03418\tnstep_dev_loss: 0.07116\tloop_dev_ref_loss: 0.03414\tloop_dev_loss: nan\teltime:  42.00365\n",
      "epoch: 196\tnstep_dev_ref_loss: 0.03401\tnstep_dev_loss: 0.07111\tloop_dev_ref_loss: 0.03398\tloop_dev_loss: nan\teltime:  42.18533\n"
     ]
    },
    {
     "name": "stdout",
     "output_type": "stream",
     "text": [
      "epoch: 197\tnstep_dev_ref_loss: 0.03384\tnstep_dev_loss: 0.07104\tloop_dev_ref_loss: 0.03381\tloop_dev_loss: nan\teltime:  42.35680\n",
      "epoch: 198\tnstep_dev_ref_loss: 0.03368\tnstep_dev_loss: 0.07100\tloop_dev_ref_loss: 0.03364\tloop_dev_loss: nan\teltime:  42.50820\n",
      "epoch: 199\tnstep_dev_ref_loss: 0.03352\tnstep_dev_loss: 0.07096\tloop_dev_ref_loss: 0.03348\tloop_dev_loss: nan\teltime:  42.71076\n",
      "epoch: 200\tnstep_dev_ref_loss: 0.03336\tnstep_dev_loss: 0.07089\tloop_dev_ref_loss: 0.03331\tloop_dev_loss: nan\teltime:  42.88641\n",
      "epoch: 201\tnstep_dev_ref_loss: 0.03319\tnstep_dev_loss: 0.07086\tloop_dev_ref_loss: 0.03314\tloop_dev_loss: nan\teltime:  43.06718\n",
      "epoch: 202\tnstep_dev_ref_loss: 0.03303\tnstep_dev_loss: 0.07082\tloop_dev_ref_loss: 0.03298\tloop_dev_loss: nan\teltime:  43.22529\n",
      "epoch: 203\tnstep_dev_ref_loss: 0.03286\tnstep_dev_loss: 0.07078\tloop_dev_ref_loss: 0.03281\tloop_dev_loss: nan\teltime:  43.42190\n",
      "epoch: 204\tnstep_dev_ref_loss: 0.03270\tnstep_dev_loss: 0.07077\tloop_dev_ref_loss: 0.03265\tloop_dev_loss: nan\teltime:  43.62435\n",
      "epoch: 205\tnstep_dev_ref_loss: 0.03254\tnstep_dev_loss: 0.07074\tloop_dev_ref_loss: 0.03248\tloop_dev_loss: nan\teltime:  43.80290\n",
      "epoch: 206\tnstep_dev_ref_loss: 0.03238\tnstep_dev_loss: 0.07072\tloop_dev_ref_loss: 0.03232\tloop_dev_loss: nan\teltime:  43.98541\n",
      "epoch: 207\tnstep_dev_ref_loss: 0.03221\tnstep_dev_loss: 0.07070\tloop_dev_ref_loss: 0.03215\tloop_dev_loss: nan\teltime:  44.16393\n",
      "epoch: 208\tnstep_dev_ref_loss: 0.03205\tnstep_dev_loss: 0.07066\tloop_dev_ref_loss: 0.03199\tloop_dev_loss: nan\teltime:  44.34345\n",
      "epoch: 209\tnstep_dev_ref_loss: 0.03189\tnstep_dev_loss: 0.07064\tloop_dev_ref_loss: 0.03183\tloop_dev_loss: nan\teltime:  44.53545\n",
      "epoch: 210\tnstep_dev_ref_loss: 0.03173\tnstep_dev_loss: 0.07063\tloop_dev_ref_loss: 0.03167\tloop_dev_loss: nan\teltime:  44.70898\n",
      "epoch: 211\tnstep_dev_ref_loss: 0.03157\tnstep_dev_loss: 0.07062\tloop_dev_ref_loss: 0.03150\tloop_dev_loss: nan\teltime:  44.89249\n",
      "epoch: 212\tnstep_dev_ref_loss: 0.03141\tnstep_dev_loss: 0.07064\tloop_dev_ref_loss: 0.03134\tloop_dev_loss: nan\teltime:  45.06209\n",
      "epoch: 213\tnstep_dev_ref_loss: 0.03125\tnstep_dev_loss: 0.07063\tloop_dev_ref_loss: 0.03117\tloop_dev_loss: nan\teltime:  45.25355\n",
      "epoch: 214\tnstep_dev_ref_loss: 0.03108\tnstep_dev_loss: 0.07060\tloop_dev_ref_loss: 0.03101\tloop_dev_loss: nan\teltime:  45.44404\n",
      "epoch: 215\tnstep_dev_ref_loss: 0.03092\tnstep_dev_loss: 0.07061\tloop_dev_ref_loss: 0.03084\tloop_dev_loss: nan\teltime:  45.62057\n",
      "epoch: 216\tnstep_dev_ref_loss: 0.03076\tnstep_dev_loss: 0.07061\tloop_dev_ref_loss: 0.03068\tloop_dev_loss: nan\teltime:  45.78812\n",
      "epoch: 217\tnstep_dev_ref_loss: 0.03061\tnstep_dev_loss: 0.07064\tloop_dev_ref_loss: 0.03053\tloop_dev_loss: nan\teltime:  45.96365\n",
      "epoch: 218\tnstep_dev_ref_loss: 0.03046\tnstep_dev_loss: 0.07067\tloop_dev_ref_loss: 0.03037\tloop_dev_loss: nan\teltime:  46.15813\n",
      "epoch: 219\tnstep_dev_ref_loss: 0.03030\tnstep_dev_loss: 0.07065\tloop_dev_ref_loss: 0.03021\tloop_dev_loss: nan\teltime:  46.33124\n",
      "epoch: 220\tnstep_dev_ref_loss: 0.03014\tnstep_dev_loss: 0.07067\tloop_dev_ref_loss: 0.03005\tloop_dev_loss: nan\teltime:  46.51007\n",
      "epoch: 221\tnstep_dev_ref_loss: 0.02999\tnstep_dev_loss: 0.07071\tloop_dev_ref_loss: 0.02990\tloop_dev_loss: nan\teltime:  46.66947\n",
      "epoch: 222\tnstep_dev_ref_loss: 0.02983\tnstep_dev_loss: 0.07071\tloop_dev_ref_loss: 0.02974\tloop_dev_loss: nan\teltime:  46.86761\n",
      "epoch: 223\tnstep_dev_ref_loss: 0.02968\tnstep_dev_loss: 0.07077\tloop_dev_ref_loss: 0.02959\tloop_dev_loss: nan\teltime:  47.07998\n",
      "epoch: 224\tnstep_dev_ref_loss: 0.02953\tnstep_dev_loss: 0.07079\tloop_dev_ref_loss: 0.02943\tloop_dev_loss: nan\teltime:  47.31003\n",
      "epoch: 225\tnstep_dev_ref_loss: 0.02938\tnstep_dev_loss: 0.07085\tloop_dev_ref_loss: 0.02928\tloop_dev_loss: nan\teltime:  47.51863\n",
      "epoch: 226\tnstep_dev_ref_loss: 0.02923\tnstep_dev_loss: 0.07086\tloop_dev_ref_loss: 0.02913\tloop_dev_loss: nan\teltime:  47.70323\n",
      "epoch: 227\tnstep_dev_ref_loss: 0.02908\tnstep_dev_loss: 0.07089\tloop_dev_ref_loss: 0.02898\tloop_dev_loss: nan\teltime:  48.00368\n",
      "epoch: 228\tnstep_dev_ref_loss: 0.02893\tnstep_dev_loss: 0.07093\tloop_dev_ref_loss: 0.02883\tloop_dev_loss: nan\teltime:  48.23654\n",
      "epoch: 229\tnstep_dev_ref_loss: 0.02879\tnstep_dev_loss: 0.07101\tloop_dev_ref_loss: 0.02868\tloop_dev_loss: nan\teltime:  48.53602\n",
      "epoch: 230\tnstep_dev_ref_loss: 0.02863\tnstep_dev_loss: 0.07105\tloop_dev_ref_loss: 0.02853\tloop_dev_loss: nan\teltime:  48.75993\n",
      "epoch: 231\tnstep_dev_ref_loss: 0.02848\tnstep_dev_loss: 0.07111\tloop_dev_ref_loss: 0.02838\tloop_dev_loss: nan\teltime:  48.95291\n",
      "epoch: 232\tnstep_dev_ref_loss: 0.02834\tnstep_dev_loss: 0.07116\tloop_dev_ref_loss: 0.02823\tloop_dev_loss: nan\teltime:  49.14619\n",
      "epoch: 233\tnstep_dev_ref_loss: 0.02820\tnstep_dev_loss: 0.07124\tloop_dev_ref_loss: 0.02809\tloop_dev_loss: nan\teltime:  49.33791\n",
      "epoch: 234\tnstep_dev_ref_loss: 0.02806\tnstep_dev_loss: 0.07129\tloop_dev_ref_loss: 0.02795\tloop_dev_loss: nan\teltime:  49.52215\n",
      "epoch: 235\tnstep_dev_ref_loss: 0.02792\tnstep_dev_loss: 0.07136\tloop_dev_ref_loss: 0.02780\tloop_dev_loss: nan\teltime:  49.70679\n",
      "epoch: 236\tnstep_dev_ref_loss: 0.02778\tnstep_dev_loss: 0.07142\tloop_dev_ref_loss: 0.02766\tloop_dev_loss: nan\teltime:  49.90703\n",
      "epoch: 237\tnstep_dev_ref_loss: 0.02764\tnstep_dev_loss: 0.07150\tloop_dev_ref_loss: 0.02752\tloop_dev_loss: nan\teltime:  50.08541\n",
      "epoch: 238\tnstep_dev_ref_loss: 0.02750\tnstep_dev_loss: 0.07157\tloop_dev_ref_loss: 0.02738\tloop_dev_loss: nan\teltime:  50.28042\n",
      "epoch: 239\tnstep_dev_ref_loss: 0.02736\tnstep_dev_loss: 0.07168\tloop_dev_ref_loss: 0.02724\tloop_dev_loss: nan\teltime:  50.49201\n",
      "epoch: 240\tnstep_dev_ref_loss: 0.02722\tnstep_dev_loss: 0.07173\tloop_dev_ref_loss: 0.02710\tloop_dev_loss: nan\teltime:  50.66162\n",
      "epoch: 241\tnstep_dev_ref_loss: 0.02709\tnstep_dev_loss: 0.07186\tloop_dev_ref_loss: 0.02697\tloop_dev_loss: nan\teltime:  50.84596\n",
      "epoch: 242\tnstep_dev_ref_loss: 0.02696\tnstep_dev_loss: 0.07186\tloop_dev_ref_loss: 0.02684\tloop_dev_loss: nan\teltime:  51.02757\n",
      "epoch: 243\tnstep_dev_ref_loss: 0.02684\tnstep_dev_loss: 0.07205\tloop_dev_ref_loss: 0.02671\tloop_dev_loss: nan\teltime:  51.19740\n",
      "epoch: 244\tnstep_dev_ref_loss: 0.02671\tnstep_dev_loss: 0.07206\tloop_dev_ref_loss: 0.02658\tloop_dev_loss: nan\teltime:  51.36946\n",
      "epoch: 245\tnstep_dev_ref_loss: 0.02657\tnstep_dev_loss: 0.07219\tloop_dev_ref_loss: 0.02645\tloop_dev_loss: nan\teltime:  51.54422\n",
      "epoch: 246\tnstep_dev_ref_loss: 0.02644\tnstep_dev_loss: 0.07228\tloop_dev_ref_loss: 0.02632\tloop_dev_loss: nan\teltime:  51.74219\n",
      "epoch: 247\tnstep_dev_ref_loss: 0.02632\tnstep_dev_loss: 0.07237\tloop_dev_ref_loss: 0.02619\tloop_dev_loss: nan\teltime:  51.92666\n",
      "epoch: 248\tnstep_dev_ref_loss: 0.02620\tnstep_dev_loss: 0.07251\tloop_dev_ref_loss: 0.02607\tloop_dev_loss: nan\teltime:  52.11125\n",
      "epoch: 249\tnstep_dev_ref_loss: 0.02608\tnstep_dev_loss: 0.07254\tloop_dev_ref_loss: 0.02595\tloop_dev_loss: nan\teltime:  52.32551\n",
      "epoch: 250\tnstep_dev_ref_loss: 0.02596\tnstep_dev_loss: 0.07267\tloop_dev_ref_loss: 0.02583\tloop_dev_loss: nan\teltime:  52.52323\n",
      "epoch: 251\tnstep_dev_ref_loss: 0.02584\tnstep_dev_loss: 0.07276\tloop_dev_ref_loss: 0.02571\tloop_dev_loss: nan\teltime:  52.72319\n",
      "epoch: 252\tnstep_dev_ref_loss: 0.02571\tnstep_dev_loss: 0.07283\tloop_dev_ref_loss: 0.02558\tloop_dev_loss: nan\teltime:  52.88682\n",
      "epoch: 253\tnstep_dev_ref_loss: 0.02560\tnstep_dev_loss: 0.07297\tloop_dev_ref_loss: 0.02546\tloop_dev_loss: nan\teltime:  53.07648\n",
      "epoch: 254\tnstep_dev_ref_loss: 0.02548\tnstep_dev_loss: 0.07303\tloop_dev_ref_loss: 0.02535\tloop_dev_loss: nan\teltime:  53.24848\n",
      "epoch: 255\tnstep_dev_ref_loss: 0.02536\tnstep_dev_loss: 0.07318\tloop_dev_ref_loss: 0.02523\tloop_dev_loss: nan\teltime:  53.42947\n",
      "epoch: 256\tnstep_dev_ref_loss: 0.02525\tnstep_dev_loss: 0.07321\tloop_dev_ref_loss: 0.02511\tloop_dev_loss: nan\teltime:  53.61308\n",
      "epoch: 257\tnstep_dev_ref_loss: 0.02514\tnstep_dev_loss: 0.07336\tloop_dev_ref_loss: 0.02500\tloop_dev_loss: nan\teltime:  53.79684\n",
      "epoch: 258\tnstep_dev_ref_loss: 0.02503\tnstep_dev_loss: 0.07344\tloop_dev_ref_loss: 0.02489\tloop_dev_loss: nan\teltime:  53.97034\n",
      "epoch: 259\tnstep_dev_ref_loss: 0.02492\tnstep_dev_loss: 0.07352\tloop_dev_ref_loss: 0.02478\tloop_dev_loss: nan\teltime:  54.17772\n",
      "epoch: 260\tnstep_dev_ref_loss: 0.02481\tnstep_dev_loss: 0.07365\tloop_dev_ref_loss: 0.02467\tloop_dev_loss: nan\teltime:  54.34960\n",
      "epoch: 261\tnstep_dev_ref_loss: 0.02470\tnstep_dev_loss: 0.07371\tloop_dev_ref_loss: 0.02456\tloop_dev_loss: nan\teltime:  54.54155\n",
      "epoch: 262\tnstep_dev_ref_loss: 0.02459\tnstep_dev_loss: 0.07383\tloop_dev_ref_loss: 0.02445\tloop_dev_loss: nan\teltime:  54.70323\n"
     ]
    },
    {
     "name": "stdout",
     "output_type": "stream",
     "text": [
      "epoch: 263\tnstep_dev_ref_loss: 0.02449\tnstep_dev_loss: 0.07390\tloop_dev_ref_loss: 0.02435\tloop_dev_loss: nan\teltime:  54.89541\n",
      "epoch: 264\tnstep_dev_ref_loss: 0.02439\tnstep_dev_loss: 0.07402\tloop_dev_ref_loss: 0.02425\tloop_dev_loss: nan\teltime:  55.05705\n",
      "epoch: 265\tnstep_dev_ref_loss: 0.02428\tnstep_dev_loss: 0.07408\tloop_dev_ref_loss: 0.02414\tloop_dev_loss: nan\teltime:  55.24838\n",
      "epoch: 266\tnstep_dev_ref_loss: 0.02418\tnstep_dev_loss: 0.07417\tloop_dev_ref_loss: 0.02403\tloop_dev_loss: nan\teltime:  55.45090\n",
      "epoch: 267\tnstep_dev_ref_loss: 0.02407\tnstep_dev_loss: 0.07425\tloop_dev_ref_loss: 0.02393\tloop_dev_loss: nan\teltime:  55.66262\n",
      "epoch: 268\tnstep_dev_ref_loss: 0.02397\tnstep_dev_loss: 0.07431\tloop_dev_ref_loss: 0.02383\tloop_dev_loss: nan\teltime:  55.81418\n",
      "epoch: 269\tnstep_dev_ref_loss: 0.02387\tnstep_dev_loss: 0.07436\tloop_dev_ref_loss: 0.02373\tloop_dev_loss: nan\teltime:  55.97577\n",
      "epoch: 270\tnstep_dev_ref_loss: 0.02377\tnstep_dev_loss: 0.07445\tloop_dev_ref_loss: 0.02363\tloop_dev_loss: nan\teltime:  56.13717\n",
      "epoch: 271\tnstep_dev_ref_loss: 0.02367\tnstep_dev_loss: 0.07446\tloop_dev_ref_loss: 0.02353\tloop_dev_loss: nan\teltime:  56.31944\n",
      "epoch: 272\tnstep_dev_ref_loss: 0.02357\tnstep_dev_loss: 0.07460\tloop_dev_ref_loss: 0.02342\tloop_dev_loss: nan\teltime:  56.50198\n",
      "epoch: 273\tnstep_dev_ref_loss: 0.02348\tnstep_dev_loss: 0.07456\tloop_dev_ref_loss: 0.02334\tloop_dev_loss: nan\teltime:  56.69797\n",
      "epoch: 274\tnstep_dev_ref_loss: 0.02337\tnstep_dev_loss: 0.07471\tloop_dev_ref_loss: 0.02322\tloop_dev_loss: nan\teltime:  56.88846\n",
      "epoch: 275\tnstep_dev_ref_loss: 0.02329\tnstep_dev_loss: 0.07464\tloop_dev_ref_loss: 0.02314\tloop_dev_loss: nan\teltime:  57.08159\n",
      "epoch: 276\tnstep_dev_ref_loss: 0.02317\tnstep_dev_loss: 0.07473\tloop_dev_ref_loss: 0.02302\tloop_dev_loss: nan\teltime:  57.28268\n",
      "epoch: 277\tnstep_dev_ref_loss: 0.02309\tnstep_dev_loss: 0.07476\tloop_dev_ref_loss: 0.02294\tloop_dev_loss: nan\teltime:  57.50921\n",
      "epoch: 278\tnstep_dev_ref_loss: 0.02299\tnstep_dev_loss: 0.07473\tloop_dev_ref_loss: 0.02284\tloop_dev_loss: nan\teltime:  57.69595\n",
      "epoch: 279\tnstep_dev_ref_loss: 0.02289\tnstep_dev_loss: 0.07479\tloop_dev_ref_loss: 0.02273\tloop_dev_loss: nan\teltime:  57.89780\n",
      "epoch: 280\tnstep_dev_ref_loss: 0.02282\tnstep_dev_loss: 0.07480\tloop_dev_ref_loss: 0.02266\tloop_dev_loss: nan\teltime:  58.11365\n",
      "epoch: 281\tnstep_dev_ref_loss: 0.02269\tnstep_dev_loss: 0.07479\tloop_dev_ref_loss: 0.02253\tloop_dev_loss: nan\teltime:  58.35999\n",
      "epoch: 282\tnstep_dev_ref_loss: 0.02262\tnstep_dev_loss: 0.07479\tloop_dev_ref_loss: 0.02246\tloop_dev_loss: nan\teltime:  58.57250\n",
      "epoch: 283\tnstep_dev_ref_loss: 0.02252\tnstep_dev_loss: 0.07479\tloop_dev_ref_loss: 0.02236\tloop_dev_loss: nan\teltime:  58.83061\n",
      "epoch: 284\tnstep_dev_ref_loss: 0.02242\tnstep_dev_loss: 0.07477\tloop_dev_ref_loss: 0.02225\tloop_dev_loss: nan\teltime:  59.00288\n",
      "epoch: 285\tnstep_dev_ref_loss: 0.02234\tnstep_dev_loss: 0.07475\tloop_dev_ref_loss: 0.02217\tloop_dev_loss: nan\teltime:  59.26378\n",
      "epoch: 286\tnstep_dev_ref_loss: 0.02222\tnstep_dev_loss: 0.07473\tloop_dev_ref_loss: 0.02205\tloop_dev_loss: nan\teltime:  59.45575\n",
      "epoch: 287\tnstep_dev_ref_loss: 0.02216\tnstep_dev_loss: 0.07471\tloop_dev_ref_loss: 0.02199\tloop_dev_loss: nan\teltime:  59.65704\n",
      "epoch: 288\tnstep_dev_ref_loss: 0.02205\tnstep_dev_loss: 0.07466\tloop_dev_ref_loss: 0.02187\tloop_dev_loss: nan\teltime:  59.84071\n",
      "epoch: 289\tnstep_dev_ref_loss: 0.02196\tnstep_dev_loss: 0.07465\tloop_dev_ref_loss: 0.02179\tloop_dev_loss: nan\teltime:  60.03239\n",
      "epoch: 290\tnstep_dev_ref_loss: 0.02188\tnstep_dev_loss: 0.07460\tloop_dev_ref_loss: 0.02170\tloop_dev_loss: nan\teltime:  60.24144\n",
      "epoch: 291\tnstep_dev_ref_loss: 0.02177\tnstep_dev_loss: 0.07454\tloop_dev_ref_loss: 0.02159\tloop_dev_loss: nan\teltime:  60.43508\n",
      "epoch: 292\tnstep_dev_ref_loss: 0.02170\tnstep_dev_loss: 0.07452\tloop_dev_ref_loss: 0.02152\tloop_dev_loss: nan\teltime:  60.65685\n",
      "epoch: 293\tnstep_dev_ref_loss: 0.02159\tnstep_dev_loss: 0.07443\tloop_dev_ref_loss: 0.02140\tloop_dev_loss: nan\teltime:  60.81840\n",
      "epoch: 294\tnstep_dev_ref_loss: 0.02152\tnstep_dev_loss: 0.07439\tloop_dev_ref_loss: 0.02133\tloop_dev_loss: nan\teltime:  61.00773\n",
      "epoch: 295\tnstep_dev_ref_loss: 0.02143\tnstep_dev_loss: 0.07433\tloop_dev_ref_loss: 0.02123\tloop_dev_loss: nan\teltime:  61.19137\n",
      "epoch: 296\tnstep_dev_ref_loss: 0.02133\tnstep_dev_loss: 0.07424\tloop_dev_ref_loss: 0.02114\tloop_dev_loss: nan\teltime:  61.37360\n",
      "epoch: 297\tnstep_dev_ref_loss: 0.02126\tnstep_dev_loss: 0.07419\tloop_dev_ref_loss: 0.02106\tloop_dev_loss: nan\teltime:  61.55551\n",
      "epoch: 298\tnstep_dev_ref_loss: 0.02116\tnstep_dev_loss: 0.07410\tloop_dev_ref_loss: 0.02095\tloop_dev_loss: nan\teltime:  61.73653\n",
      "epoch: 299\tnstep_dev_ref_loss: 0.02108\tnstep_dev_loss: 0.07402\tloop_dev_ref_loss: 0.02088\tloop_dev_loss: nan\teltime:  61.90727\n"
     ]
    }
   ],
   "source": [
    "best_model = trainer.train()"
   ]
  },
  {
   "cell_type": "markdown",
   "metadata": {},
   "source": [
    "## Model Evaluation\n",
    "Once training has concluded and the best model has been returned by the trainer, we can call the `evaluate()` method with the best model to evaluate the model's $N$-step and open-loop performance and use the visualizer to generate trace plots for both.\n",
    "\n",
    "Below, the model's $N$-step traces (top) and open-loop (bottom) traces are shown."
   ]
  },
  {
   "cell_type": "code",
   "execution_count": 12,
   "metadata": {},
   "outputs": [
    {
     "name": "stdout",
     "output_type": "stream",
     "text": [
      "epoch: 299\tbest_loop_dev_loss: nan\teltime:  63.41915\n"
     ]
    },
    {
     "data": {
      "image/png": "[encoded data removed]",
      "text/plain": [
       "<Figure size 432x288 with 5 Axes>"
      ]
     },
     "metadata": {},
     "output_type": "display_data"
    },
    {
     "data": {
      "image/png": "[encoded data removed]",
      "text/plain": [
       "<Figure size 432x288 with 5 Axes>"
      ]
     },
     "metadata": {},
     "output_type": "display_data"
    }
   ],
   "source": [
    "best_outputs = trainer.test(best_model)"
   ]
  },
  {
   "cell_type": "code",
   "execution_count": 13,
   "metadata": {},
   "outputs": [
    {
     "name": "stderr",
     "output_type": "stream",
     "text": [
      "C:\\Users\\drgo694\\AppData\\Local\\Continuum\\anaconda3\\envs\\neuromancer\\lib\\site-packages\\ipykernel\\ipkernel.py:283: DeprecationWarning: `should_run_async` will not call `transform_cell` automatically in the future. Please pass the result to `transformed_cell` argument and any exception that happen during thetransform in `preprocessing_exc_tuple` in IPython 7.17 and above.\n",
      "  and should_run_async(code)\n"
     ]
    }
   ],
   "source": [
    "logger.clean_up()"
   ]
  },
  {
   "cell_type": "code",
   "execution_count": null,
   "metadata": {},
   "outputs": [],
   "source": []
  }
 ],
 "metadata": {
  "kernelspec": {
   "display_name": "neuromancer",
   "language": "python",
   "name": "neuromancer"
  },
  "language_info": {
   "codemirror_mode": {
    "name": "ipython",
    "version": 3
   },
   "file_extension": ".py",
   "mimetype": "text/x-python",
   "name": "python",
   "nbconvert_exporter": "python",
   "pygments_lexer": "ipython3",
   "version": "3.7.8"
  }
 },
 "nbformat": 4,
 "nbformat_minor": 2
}

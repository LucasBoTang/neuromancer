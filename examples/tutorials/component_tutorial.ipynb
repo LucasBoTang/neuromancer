{
 "cells": [
  {
   "cell_type": "markdown",
   "id": "98a7e6bc-4b3d-419e-9940-22f62b9f115e",
   "metadata": {},
   "source": [
    "# `Component` walkthrough\n",
    "This notebook demonstrates how components work together in NeuroMANCER, and how data flows through the computational graph assembled by the `Problem` class. We'll demonstrate by building a full neural state space model for partially-observable dynamical systems."
   ]
  },
  {
   "cell_type": "code",
   "execution_count": 1,
   "id": "55cb6745-0a8d-4c4a-8bc8-09b8055635c1",
   "metadata": {},
   "outputs": [],
   "source": [
    "import torch\n",
    "import torch.nn.functional as F\n",
    "\n",
    "from neuromancer.estimators import MLPEstimator\n",
    "from neuromancer.dynamics import block_model, BlockSSM\n",
    "from neuromancer.problem import Problem, Objective\n",
    "from neuromancer.blocks import MLP\n",
    "from neuromancer.plot import plot_model_graph\n",
    "\n",
    "import slim"
   ]
  },
  {
   "cell_type": "markdown",
   "id": "297dc0d0-6a88-4d49-aaf4-2d3476062c33",
   "metadata": {},
   "source": [
    "We begin constructing our neural SSM by creating a latent state estimator to predict initial conditions from past observations. To do this, we specify the dimensionality of both our observables and the latent state; in this case, we choose 10 and 20, respectively.\n",
    "\n",
    "As you will see after running the cell below, each component has a handy string representation that indicates the name of the component, its input variables, and its outputs. Notice that the outputs of the component are tagged with the name of the component that produced them; this is used to prevent name collisions in the computational graph, and will become important in the next step."
   ]
  },
  {
   "cell_type": "code",
   "execution_count": 2,
   "id": "440794d5-ab9f-4ed6-9b5c-c8ac5723988f",
   "metadata": {},
   "outputs": [
    {
     "data": {
      "text/plain": [
       "estim(Yp) -> x0_estim, reg_error_estim"
      ]
     },
     "execution_count": 2,
     "metadata": {},
     "output_type": "execute_result"
    }
   ],
   "source": [
    "estim = MLPEstimator(\n",
    "    {\"Yp\": (10,), \"x0\": (20,)},\n",
    "    nsteps=2,\n",
    "    name=\"estim\"\n",
    ")\n",
    "estim"
   ]
  },
  {
   "cell_type": "markdown",
   "id": "52e16bb2-1e84-4a36-8a0c-be978dbd28fa",
   "metadata": {},
   "source": [
    "Next, we define our state space model. The SSM component will take the output of the estimator as its initial condition `x0`. However, recall that components tag their outputs with their name. If we look at the default input keys of the `BlockSSM` class, we'll notice a slight problem:"
   ]
  },
  {
   "cell_type": "code",
   "execution_count": 3,
   "id": "2562991f-5aaf-4d56-801f-b767388d8783",
   "metadata": {},
   "outputs": [
    {
     "data": {
      "text/plain": [
       "['x0', 'Yf']"
      ]
     },
     "execution_count": 3,
     "metadata": {},
     "output_type": "execute_result"
    }
   ],
   "source": [
    "BlockSSM.DEFAULT_INPUT_KEYS"
   ]
  },
  {
   "cell_type": "markdown",
   "id": "42f25109-494d-47b0-a1ef-f89635a09a3b",
   "metadata": {},
   "source": [
    "The canonical name for the initial state variable in `BlockSSM`s is named `x0`, not `x0_estim`. Because of this, we need to remap the estimator's output `x0_estim` to `x0`. To do this, we hand a dictionary to the `input_keys` parameter of the `block_model` function which maps the tagged variable to the canonical name used by the dynamics model. The following cell uses the named constructor `block_model` to generate a Block Nonlinear neural SSM:"
   ]
  },
  {
   "cell_type": "code",
   "execution_count": 4,
   "id": "90cbccc5-0811-4187-be06-2c93267dc124",
   "metadata": {},
   "outputs": [
    {
     "data": {
      "text/plain": [
       "dynamics(Yf, x0_estim, Uf_renamed) -> X_pred_dynamics, Y_pred_dynamics, reg_error_dynamics"
      ]
     },
     "execution_count": 4,
     "metadata": {},
     "output_type": "execute_result"
    }
   ],
   "source": [
    "dynamics = block_model(\n",
    "    \"blocknlin\",\n",
    "    {\"x0\": (20,), \"Yf\": (10,), \"Uf\": (2,)},\n",
    "    slim.Linear,\n",
    "    MLP,\n",
    "    bias=False,\n",
    "    input_keys={\"x0_estim\": \"x0\", \"Uf_renamed\": \"Uf\"},\n",
    "    name=\"dynamics\"\n",
    ")\n",
    "dynamics"
   ]
  },
  {
   "cell_type": "markdown",
   "id": "1336b200-567f-4529-87f6-8bdd2ee30d6c",
   "metadata": {},
   "source": [
    "Now we have both model components ready to compose with a `Problem` instance. However, before we do that, let's pick apart how data flows through the computational graph formed by these components when composed in a `Problem`.\n",
    "\n",
    "First, we'll create a `DataDict` containing the constant inputs required by each component (`Yp`, `Yf`, and `Uf` for the dynamics model; and `Yp` for the estimator)."
   ]
  },
  {
   "cell_type": "code",
   "execution_count": 5,
   "id": "6f226ca6-1726-4e47-8b7f-aa18976b4f8a",
   "metadata": {},
   "outputs": [],
   "source": [
    "data = {\n",
    "    \"Yp\": torch.rand(2, 10, 10),\n",
    "    \"Yf\": torch.rand(2, 10, 10),\n",
    "    \"Uf_renamed\": torch.rand(2, 10, 2),\n",
    "}"
   ]
  },
  {
   "cell_type": "markdown",
   "id": "88056e63-27e4-4b35-95ca-f3c29e856de8",
   "metadata": {},
   "source": [
    "Next, let's push the data through the estimator to see what we receive as output (note that we combine the data and estimator output to retain the constant inputs used by the dynamics model):"
   ]
  },
  {
   "cell_type": "code",
   "execution_count": 6,
   "id": "efe066d6-ccff-49ab-a2a1-42713c590319",
   "metadata": {},
   "outputs": [
    {
     "data": {
      "text/plain": [
       "dict_keys(['Yp', 'Yf', 'Uf_renamed', 'x0_estim', 'reg_error_estim'])"
      ]
     },
     "execution_count": 6,
     "metadata": {},
     "output_type": "execute_result"
    }
   ],
   "source": [
    "output = {**data, **estim(data)}\n",
    "output.keys()"
   ]
  },
  {
   "cell_type": "markdown",
   "id": "bbddc346-5f59-4245-a807-9fdc41cc975e",
   "metadata": {},
   "source": [
    "As expected, we obtain our estimated initial state `x0_estim` alongside a `reg_error_estim` term measuring the regularization error incurred by any structured linear maps in the component (in this case there are none).\n",
    "\n",
    "Now let's take the output of the estimator and push it through the SSM:"
   ]
  },
  {
   "cell_type": "code",
   "execution_count": 7,
   "id": "57224cc8-d7ee-4714-bff7-def11bb38706",
   "metadata": {},
   "outputs": [
    {
     "data": {
      "text/plain": [
       "dict_keys(['Yp', 'Yf', 'Uf_renamed', 'x0_estim', 'reg_error_estim', 'X_pred_dynamics', 'Y_pred_dynamics', 'reg_error_dynamics', 'fU_dynamics'])"
      ]
     },
     "execution_count": 7,
     "metadata": {},
     "output_type": "execute_result"
    }
   ],
   "source": [
    "output = {**output, **dynamics(output)}\n",
    "output.keys()"
   ]
  },
  {
   "cell_type": "markdown",
   "id": "c697d376-fefd-4ed2-8290-74450dac6040",
   "metadata": {},
   "source": [
    "As we can see, the dynamics model correctly handles the `x0_estim` variable; internally, the variable is automatically renamed to its canonical name. This capability allows users to combine components in arbitrary ways.\n",
    "\n",
    "We'll next create some objectives and constraints to demonstrate how these interact with components in a `Problem` instance; we define the inputs to each objective and constraint by providing a list of keys which can reference either the input data or the output of any component in the overall model."
   ]
  },
  {
   "cell_type": "code",
   "execution_count": 8,
   "id": "93d43c91-80d2-4ff1-a125-889becf8529e",
   "metadata": {},
   "outputs": [],
   "source": [
    "reference_loss = Objective([\"Y_pred_dynamics\", \"Yf\"], F.mse_loss, name=\"reference_loss\")\n",
    "estimator_loss = Objective([\"X_pred_dynamics\", \"x0_estim\"], lambda x, y: F.mse_loss(x[-1, :-1, :], y[1:]), name=\"estimator_loss\")\n",
    "\n",
    "bounds_constraint = Objective([\"Y_pred_dynamics\"], lambda x: F.relu(0.5 - x).mean(), name=\"bounds_constraint\")"
   ]
  },
  {
   "cell_type": "markdown",
   "id": "6fa15aac-b9c2-48d5-a130-4cd566c92d76",
   "metadata": {},
   "source": [
    "At last, let's put together a `Problem` class to combine everything. Like `Component`s, when we instantiate a `Problem` we can inspect its string representation to get an overview of all the constructs in the model and see how they are put together."
   ]
  },
  {
   "cell_type": "code",
   "execution_count": 9,
   "id": "1530815d-ddde-4c48-96ea-6f323a9a0169",
   "metadata": {},
   "outputs": [
    {
     "ename": "FileNotFoundError",
     "evalue": "[WinError 2] \"dot\" not found in path.",
     "output_type": "error",
     "traceback": [
      "\u001b[1;31m---------------------------------------------------------------------------\u001b[0m",
      "\u001b[1;31mFileNotFoundError\u001b[0m                         Traceback (most recent call last)",
      "\u001b[1;32m~\\AppData\\Local\\Continuum\\anaconda3\\envs\\neuromancer\\lib\\site-packages\\pydot.py\u001b[0m in \u001b[0;36mcreate\u001b[1;34m(self, prog, format, encoding)\u001b[0m\n\u001b[0;32m   1925\u001b[0m                 \u001b[0marguments\u001b[0m\u001b[1;33m=\u001b[0m\u001b[0marguments\u001b[0m\u001b[1;33m,\u001b[0m\u001b[1;33m\u001b[0m\u001b[1;33m\u001b[0m\u001b[0m\n\u001b[1;32m-> 1926\u001b[1;33m                 \u001b[0mworking_dir\u001b[0m\u001b[1;33m=\u001b[0m\u001b[0mtmp_dir\u001b[0m\u001b[1;33m,\u001b[0m\u001b[1;33m\u001b[0m\u001b[1;33m\u001b[0m\u001b[0m\n\u001b[0m\u001b[0;32m   1927\u001b[0m             )\n",
      "\u001b[1;32m~\\AppData\\Local\\Continuum\\anaconda3\\envs\\neuromancer\\lib\\site-packages\\pydot.py\u001b[0m in \u001b[0;36mcall_graphviz\u001b[1;34m(program, arguments, working_dir, **kwargs)\u001b[0m\n\u001b[0;32m    138\u001b[0m         \u001b[0mstdout\u001b[0m\u001b[1;33m=\u001b[0m\u001b[0msubprocess\u001b[0m\u001b[1;33m.\u001b[0m\u001b[0mPIPE\u001b[0m\u001b[1;33m,\u001b[0m\u001b[1;33m\u001b[0m\u001b[1;33m\u001b[0m\u001b[0m\n\u001b[1;32m--> 139\u001b[1;33m         \u001b[1;33m**\u001b[0m\u001b[0mkwargs\u001b[0m\u001b[1;33m\u001b[0m\u001b[1;33m\u001b[0m\u001b[0m\n\u001b[0m\u001b[0;32m    140\u001b[0m     )\n",
      "\u001b[1;32m~\\AppData\\Local\\Continuum\\anaconda3\\envs\\neuromancer\\lib\\subprocess.py\u001b[0m in \u001b[0;36m__init__\u001b[1;34m(self, args, bufsize, executable, stdin, stdout, stderr, preexec_fn, close_fds, shell, cwd, env, universal_newlines, startupinfo, creationflags, restore_signals, start_new_session, pass_fds, encoding, errors, text)\u001b[0m\n\u001b[0;32m    799\u001b[0m                                 \u001b[0merrread\u001b[0m\u001b[1;33m,\u001b[0m \u001b[0merrwrite\u001b[0m\u001b[1;33m,\u001b[0m\u001b[1;33m\u001b[0m\u001b[1;33m\u001b[0m\u001b[0m\n\u001b[1;32m--> 800\u001b[1;33m                                 restore_signals, start_new_session)\n\u001b[0m\u001b[0;32m    801\u001b[0m         \u001b[1;32mexcept\u001b[0m\u001b[1;33m:\u001b[0m\u001b[1;33m\u001b[0m\u001b[1;33m\u001b[0m\u001b[0m\n",
      "\u001b[1;32m~\\AppData\\Local\\Continuum\\anaconda3\\envs\\neuromancer\\lib\\subprocess.py\u001b[0m in \u001b[0;36m_execute_child\u001b[1;34m(self, args, executable, preexec_fn, close_fds, pass_fds, cwd, env, startupinfo, creationflags, shell, p2cread, p2cwrite, c2pread, c2pwrite, errread, errwrite, unused_restore_signals, unused_start_new_session)\u001b[0m\n\u001b[0;32m   1206\u001b[0m                                          \u001b[0mos\u001b[0m\u001b[1;33m.\u001b[0m\u001b[0mfspath\u001b[0m\u001b[1;33m(\u001b[0m\u001b[0mcwd\u001b[0m\u001b[1;33m)\u001b[0m \u001b[1;32mif\u001b[0m \u001b[0mcwd\u001b[0m \u001b[1;32mis\u001b[0m \u001b[1;32mnot\u001b[0m \u001b[1;32mNone\u001b[0m \u001b[1;32melse\u001b[0m \u001b[1;32mNone\u001b[0m\u001b[1;33m,\u001b[0m\u001b[1;33m\u001b[0m\u001b[1;33m\u001b[0m\u001b[0m\n\u001b[1;32m-> 1207\u001b[1;33m                                          startupinfo)\n\u001b[0m\u001b[0;32m   1208\u001b[0m             \u001b[1;32mfinally\u001b[0m\u001b[1;33m:\u001b[0m\u001b[1;33m\u001b[0m\u001b[1;33m\u001b[0m\u001b[0m\n",
      "\u001b[1;31mFileNotFoundError\u001b[0m: [WinError 2] The system cannot find the file specified",
      "\nDuring handling of the above exception, another exception occurred:\n",
      "\u001b[1;31mFileNotFoundError\u001b[0m                         Traceback (most recent call last)",
      "\u001b[1;32m<ipython-input-9-ffe512980626>\u001b[0m in \u001b[0;36m<module>\u001b[1;34m\u001b[0m\n\u001b[0;32m      6\u001b[0m \u001b[1;33m\u001b[0m\u001b[0m\n\u001b[0;32m      7\u001b[0m \u001b[1;31m# plot computational graph\u001b[0m\u001b[1;33m\u001b[0m\u001b[1;33m\u001b[0m\u001b[1;33m\u001b[0m\u001b[0m\n\u001b[1;32m----> 8\u001b[1;33m \u001b[0mplot_model_graph\u001b[0m\u001b[1;33m(\u001b[0m\u001b[0mmodel\u001b[0m\u001b[1;33m,\u001b[0m \u001b[0mdata\u001b[0m\u001b[1;33m.\u001b[0m\u001b[0mkeys\u001b[0m\u001b[1;33m(\u001b[0m\u001b[1;33m)\u001b[0m\u001b[1;33m)\u001b[0m\u001b[1;33m\u001b[0m\u001b[1;33m\u001b[0m\u001b[0m\n\u001b[0m",
      "\u001b[1;32mc:\\users\\drgo694\\onedrive - pnnl\\documents\\codes_reposit\\neuromancer\\neuromancer\\neuromancer\\plot.py\u001b[0m in \u001b[0;36mplot_model_graph\u001b[1;34m(model, data_keys, include_objectives, fname)\u001b[0m\n\u001b[0;32m     61\u001b[0m         \u001b[0m_add_obj_components\u001b[0m\u001b[1;33m(\u001b[0m\u001b[0mgraph\u001b[0m\u001b[1;33m,\u001b[0m \u001b[0mmodel\u001b[0m\u001b[1;33m.\u001b[0m\u001b[0mconstraints\u001b[0m\u001b[1;33m,\u001b[0m \u001b[0mmodel\u001b[0m\u001b[1;33m.\u001b[0m\u001b[0mcomponents\u001b[0m\u001b[1;33m,\u001b[0m \u001b[0mdata_keys\u001b[0m\u001b[1;33m,\u001b[0m \u001b[0mstyle\u001b[0m\u001b[1;33m=\u001b[0m\u001b[1;34m\"dashed\"\u001b[0m\u001b[1;33m)\u001b[0m\u001b[1;33m\u001b[0m\u001b[1;33m\u001b[0m\u001b[0m\n\u001b[0;32m     62\u001b[0m \u001b[1;33m\u001b[0m\u001b[0m\n\u001b[1;32m---> 63\u001b[1;33m     \u001b[0mgraph\u001b[0m\u001b[1;33m.\u001b[0m\u001b[0mwrite_png\u001b[0m\u001b[1;33m(\u001b[0m\u001b[0mfname\u001b[0m\u001b[1;33m)\u001b[0m\u001b[1;33m\u001b[0m\u001b[1;33m\u001b[0m\u001b[0m\n\u001b[0m\u001b[0;32m     64\u001b[0m     \u001b[0mimg\u001b[0m \u001b[1;33m=\u001b[0m \u001b[0mmpimg\u001b[0m\u001b[1;33m.\u001b[0m\u001b[0mimread\u001b[0m\u001b[1;33m(\u001b[0m\u001b[0mfname\u001b[0m\u001b[1;33m)\u001b[0m\u001b[1;33m\u001b[0m\u001b[1;33m\u001b[0m\u001b[0m\n\u001b[0;32m     65\u001b[0m     \u001b[0mfig\u001b[0m \u001b[1;33m=\u001b[0m \u001b[0mplt\u001b[0m\u001b[1;33m.\u001b[0m\u001b[0mimshow\u001b[0m\u001b[1;33m(\u001b[0m\u001b[0mimg\u001b[0m\u001b[1;33m,\u001b[0m \u001b[0maspect\u001b[0m\u001b[1;33m=\u001b[0m\u001b[1;34m'equal'\u001b[0m\u001b[1;33m)\u001b[0m\u001b[1;33m\u001b[0m\u001b[1;33m\u001b[0m\u001b[0m\n",
      "\u001b[1;32m~\\AppData\\Local\\Continuum\\anaconda3\\envs\\neuromancer\\lib\\site-packages\\pydot.py\u001b[0m in \u001b[0;36mnew_method\u001b[1;34m(path, f, prog, encoding)\u001b[0m\n\u001b[0;32m   1743\u001b[0m                 self.write(\n\u001b[0;32m   1744\u001b[0m                     \u001b[0mpath\u001b[0m\u001b[1;33m,\u001b[0m \u001b[0mformat\u001b[0m\u001b[1;33m=\u001b[0m\u001b[0mf\u001b[0m\u001b[1;33m,\u001b[0m \u001b[0mprog\u001b[0m\u001b[1;33m=\u001b[0m\u001b[0mprog\u001b[0m\u001b[1;33m,\u001b[0m\u001b[1;33m\u001b[0m\u001b[1;33m\u001b[0m\u001b[0m\n\u001b[1;32m-> 1745\u001b[1;33m                     encoding=encoding)\n\u001b[0m\u001b[0;32m   1746\u001b[0m             \u001b[0mname\u001b[0m \u001b[1;33m=\u001b[0m \u001b[1;34m'write_{fmt}'\u001b[0m\u001b[1;33m.\u001b[0m\u001b[0mformat\u001b[0m\u001b[1;33m(\u001b[0m\u001b[0mfmt\u001b[0m\u001b[1;33m=\u001b[0m\u001b[0mfrmt\u001b[0m\u001b[1;33m)\u001b[0m\u001b[1;33m\u001b[0m\u001b[1;33m\u001b[0m\u001b[0m\n\u001b[0;32m   1747\u001b[0m             \u001b[0mself\u001b[0m\u001b[1;33m.\u001b[0m\u001b[0m__setattr__\u001b[0m\u001b[1;33m(\u001b[0m\u001b[0mname\u001b[0m\u001b[1;33m,\u001b[0m \u001b[0mnew_method\u001b[0m\u001b[1;33m)\u001b[0m\u001b[1;33m\u001b[0m\u001b[1;33m\u001b[0m\u001b[0m\n",
      "\u001b[1;32m~\\AppData\\Local\\Continuum\\anaconda3\\envs\\neuromancer\\lib\\site-packages\\pydot.py\u001b[0m in \u001b[0;36mwrite\u001b[1;34m(self, path, prog, format, encoding)\u001b[0m\n\u001b[0;32m   1826\u001b[0m                 \u001b[0mf\u001b[0m\u001b[1;33m.\u001b[0m\u001b[0mwrite\u001b[0m\u001b[1;33m(\u001b[0m\u001b[0ms\u001b[0m\u001b[1;33m)\u001b[0m\u001b[1;33m\u001b[0m\u001b[1;33m\u001b[0m\u001b[0m\n\u001b[0;32m   1827\u001b[0m         \u001b[1;32melse\u001b[0m\u001b[1;33m:\u001b[0m\u001b[1;33m\u001b[0m\u001b[1;33m\u001b[0m\u001b[0m\n\u001b[1;32m-> 1828\u001b[1;33m             \u001b[0ms\u001b[0m \u001b[1;33m=\u001b[0m \u001b[0mself\u001b[0m\u001b[1;33m.\u001b[0m\u001b[0mcreate\u001b[0m\u001b[1;33m(\u001b[0m\u001b[0mprog\u001b[0m\u001b[1;33m,\u001b[0m \u001b[0mformat\u001b[0m\u001b[1;33m,\u001b[0m \u001b[0mencoding\u001b[0m\u001b[1;33m=\u001b[0m\u001b[0mencoding\u001b[0m\u001b[1;33m)\u001b[0m\u001b[1;33m\u001b[0m\u001b[1;33m\u001b[0m\u001b[0m\n\u001b[0m\u001b[0;32m   1829\u001b[0m             \u001b[1;32mwith\u001b[0m \u001b[0mio\u001b[0m\u001b[1;33m.\u001b[0m\u001b[0mopen\u001b[0m\u001b[1;33m(\u001b[0m\u001b[0mpath\u001b[0m\u001b[1;33m,\u001b[0m \u001b[0mmode\u001b[0m\u001b[1;33m=\u001b[0m\u001b[1;34m'wb'\u001b[0m\u001b[1;33m)\u001b[0m \u001b[1;32mas\u001b[0m \u001b[0mf\u001b[0m\u001b[1;33m:\u001b[0m\u001b[1;33m\u001b[0m\u001b[1;33m\u001b[0m\u001b[0m\n\u001b[0;32m   1830\u001b[0m                 \u001b[0mf\u001b[0m\u001b[1;33m.\u001b[0m\u001b[0mwrite\u001b[0m\u001b[1;33m(\u001b[0m\u001b[0ms\u001b[0m\u001b[1;33m)\u001b[0m\u001b[1;33m\u001b[0m\u001b[1;33m\u001b[0m\u001b[0m\n",
      "\u001b[1;32m~\\AppData\\Local\\Continuum\\anaconda3\\envs\\neuromancer\\lib\\site-packages\\pydot.py\u001b[0m in \u001b[0;36mcreate\u001b[1;34m(self, prog, format, encoding)\u001b[0m\n\u001b[0;32m   1931\u001b[0m                 args[1] = '\"{prog}\" not found in path.'.format(\n\u001b[0;32m   1932\u001b[0m                     prog=prog)\n\u001b[1;32m-> 1933\u001b[1;33m                 \u001b[1;32mraise\u001b[0m \u001b[0mOSError\u001b[0m\u001b[1;33m(\u001b[0m\u001b[1;33m*\u001b[0m\u001b[0margs\u001b[0m\u001b[1;33m)\u001b[0m\u001b[1;33m\u001b[0m\u001b[1;33m\u001b[0m\u001b[0m\n\u001b[0m\u001b[0;32m   1934\u001b[0m             \u001b[1;32melse\u001b[0m\u001b[1;33m:\u001b[0m\u001b[1;33m\u001b[0m\u001b[1;33m\u001b[0m\u001b[0m\n\u001b[0;32m   1935\u001b[0m                 \u001b[1;32mraise\u001b[0m\u001b[1;33m\u001b[0m\u001b[1;33m\u001b[0m\u001b[0m\n",
      "\u001b[1;31mFileNotFoundError\u001b[0m: [WinError 2] \"dot\" not found in path."
     ]
    }
   ],
   "source": [
    "objectives = [reference_loss, estimator_loss]\n",
    "constraints = [bounds_constraint]\n",
    "trainable_components = [estim, dynamics]\n",
    "model = Problem(objectives, constraints, trainable_components)\n",
    "model\n",
    "\n",
    "# plot computational graph\n",
    "plot_model_graph(model, data.keys())"
   ]
  },
  {
   "cell_type": "markdown",
   "id": "f3ab17ab-7f86-4611-a50d-cba7bb74241e",
   "metadata": {},
   "source": [
    "With our `Problem` created, we can now push the data dictionary we previously defined through it to receive the outputs of each component and the values of each objective and constraint we specified. Note that we wrap the data into a `DataDict` and add a `name` attribute; like the attribute used in `Component`s, this is used to prevent name collisions between variables generated by the use of different data splits during training and validation."
   ]
  },
  {
   "cell_type": "code",
   "execution_count": 10,
   "id": "1629bc58-15b7-408f-bc76-973bf092309f",
   "metadata": {},
   "outputs": [
    {
     "data": {
      "text/plain": [
       "dict_keys(['test_Yp', 'test_Yf', 'test_Uf_renamed', 'test_name', 'test_x0_estim', 'test_reg_error_estim', 'test_X_pred_dynamics', 'test_Y_pred_dynamics', 'test_reg_error_dynamics', 'test_fU_dynamics', 'test_reference_loss', 'test_estimator_loss', 'test_bounds_constraint', 'test_loss'])"
      ]
     },
     "execution_count": 10,
     "metadata": {},
     "output_type": "execute_result"
    }
   ],
   "source": [
    "data[\"name\"] = \"test\"\n",
    "output = model(data)\n",
    "output.keys()\n"
   ]
  },
  {
   "cell_type": "markdown",
   "id": "17c078dd-7c05-43e3-973b-8566eab4caca",
   "metadata": {},
   "source": [
    "And that's all there is to it. The model can now be passed to a `Trainer` along with a `Dataset` instance to train and validate the model."
   ]
  },
  {
   "cell_type": "code",
   "execution_count": null,
   "id": "ac5eb8cb",
   "metadata": {},
   "outputs": [],
   "source": []
  }
 ],
 "metadata": {
  "kernelspec": {
   "display_name": "neuromancer2",
   "language": "python",
   "name": "neuromancer2"
  },
  "language_info": {
   "codemirror_mode": {
    "name": "ipython",
    "version": 3
   },
   "file_extension": ".py",
   "mimetype": "text/x-python",
   "name": "python",
   "nbconvert_exporter": "python",
   "pygments_lexer": "ipython3",
   "version": "3.7.8"
  }
 },
 "nbformat": 4,
 "nbformat_minor": 5
}

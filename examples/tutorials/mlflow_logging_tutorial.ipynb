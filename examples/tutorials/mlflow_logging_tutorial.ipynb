{
 "cells": [
  {
   "cell_type": "markdown",
   "metadata": {},
   "source": [
    "# NeuroMANCER: System ID Tutorial with MLFlow logging\n",
    "\n",
    "Note that this is the same as `examples/system_identification_ODE/system_id_tutorial.ipynb`, with mlflow logging."
   ]
  },
  {
   "cell_type": "code",
   "execution_count": 1,
   "metadata": {},
   "outputs": [],
   "source": [
    "import torch\n",
    "import torch.nn.functional as F\n",
    "from torch.utils.data import DataLoader\n",
    "import slim\n",
    "import psl\n",
    "\n",
    "from neuromancer import blocks, estimators, dynamics, arg\n",
    "from neuromancer.activations import activations\n",
    "from neuromancer.visuals import VisualizerOpen\n",
    "from neuromancer.trainer import Trainer\n",
    "from neuromancer.problem import Problem\n",
    "from neuromancer.constraint import Objective\n",
    "from neuromancer.simulators import OpenLoopSimulator, MultiSequenceOpenLoopSimulator\n",
    "from neuromancer.callbacks import SysIDCallback\n",
    "from neuromancer.loggers import BasicLogger, MLFlowLogger\n",
    "from neuromancer.dataset import read_file, normalize_data, split_sequence_data, SequenceDataset\n",
    "from neuromancer.constraint import Variable\n",
    "\n",
    "\n",
    "# params for configuration\n",
    "params = {\n",
    "    \"nsteps\": 32,             # Prediction horizon length.\n",
    "    \"nsim\": 10000,            # Number of temporal datapoints in the simulated dataset.\n",
    "    \"data_seed\": 408,         # Random seed for the dataset emulator.\n",
    "    \"norm\": [\"U\", \"D\", \"Y\"],  # Norms imposed on raw variables. U: inputs, D: disturbances, Y: outputs.\n",
    "    \"Q_y\": 1.0,               # Output tracking penalty weight.\n",
    "    \"Q_e\": 1.0,               # State estimator hidden prediction penalty weight.\n",
    "    \"Q_sub\": 1.0,             # Linear maps regularization weight.\n",
    "    \"Q_con_x\": 1.0,           # Hidden state constraints penalty weight.\n",
    "    \"Q_dx\": 0.1,              # Penalty weight on hidden state difference in one time step. \n",
    "    \"savedir\": \"test\",        # Where should your trained model and plots be saved (temp).\n",
    "    \"eval_metric\": \"nstep_dev_ref_loss\",   # Metric for model selection and early stopping.\n",
    "    \"metrics\": [\"nstep_dev_loss\", \"loop_dev_loss\", \"best_loop_dev_loss\",\n",
    "               \"nstep_dev_ref_loss\", \"loop_dev_ref_loss\"],   # Metrics to be logged.\n",
    "    \"epochs\": 300,            # Number of training epochs.\n",
    "    \"lr\": 0.001,              # Learning rate.\n",
    "    \"patience\": 100,          # Early stopping patience.\n",
    "    \"warmup\": 10,             # Early stopping warmup.\n",
    "}\n",
    "device = \"cuda:0\" if torch.cuda.is_available() else \"cpu\""
   ]
  },
  {
   "cell_type": "markdown",
   "metadata": {},
   "source": [
    "## Datasets\n",
    "NeuroMANCER currently supports both static and emulated datasets (generated from governing equations for various systems) via [PSL](https://github.com/pnnl/psl). Here, we define get_sequence_dataloaders() function for generating dataloader from the raw  data given as dictionary.  \n",
    "For more details see datasets tutorial."
   ]
  },
  {
   "cell_type": "code",
   "execution_count": 2,
   "metadata": {},
   "outputs": [],
   "source": [
    "def get_sequence_dataloaders(\n",
    "    data, nsteps, moving_horizon=False, norm_type=\"zero-one\", split_ratio=None, num_workers=0,\n",
    "):\n",
    "    \"\"\"This will generate dataloaders and open-loop sequence dictionaries for a given dictionary of\n",
    "    data. Dataloaders are hard-coded for full-batch training to match NeuroMANCER's original\n",
    "    training setup.\n",
    "\n",
    "    :param data: (dict str: np.array or list[dict str: np.array]) data dictionary or list of data\n",
    "        dictionaries; if latter is provided, multi-sequence datasets are created and splits are\n",
    "        computed over the number of sequences rather than their lengths.\n",
    "    :param nsteps: (int) length of windowed subsequences for N-step training.\n",
    "    :param moving_horizon: (bool) whether to use moving horizon batching.\n",
    "    :param norm_type: (str) type of normalization; see function `normalize_data` for more info.\n",
    "    :param split_ratio: (list float) percentage of data in train and development splits; see\n",
    "        function `split_sequence_data` for more info.\n",
    "    \"\"\"\n",
    "\n",
    "    data, _ = normalize_data(data, norm_type)\n",
    "    train_data, dev_data, test_data = split_sequence_data(data, nsteps, moving_horizon, split_ratio)\n",
    "\n",
    "    train_data = SequenceDataset(\n",
    "        train_data,\n",
    "        nsteps=nsteps,\n",
    "        moving_horizon=moving_horizon,\n",
    "        name=\"train\",\n",
    "    )\n",
    "    dev_data = SequenceDataset(\n",
    "        dev_data,\n",
    "        nsteps=nsteps,\n",
    "        moving_horizon=moving_horizon,\n",
    "        name=\"dev\",\n",
    "    )\n",
    "    test_data = SequenceDataset(\n",
    "        test_data,\n",
    "        nsteps=nsteps,\n",
    "        moving_horizon=moving_horizon,\n",
    "        name=\"test\",\n",
    "    )\n",
    "\n",
    "    train_loop = train_data.get_full_sequence()\n",
    "    dev_loop = dev_data.get_full_sequence()\n",
    "    test_loop = test_data.get_full_sequence()\n",
    "\n",
    "    train_data = DataLoader(\n",
    "        train_data,\n",
    "        batch_size=len(train_data),\n",
    "        shuffle=False,\n",
    "        collate_fn=train_data.collate_fn,\n",
    "        num_workers=num_workers,\n",
    "    )\n",
    "    dev_data = DataLoader(\n",
    "        dev_data,\n",
    "        batch_size=len(dev_data),\n",
    "        shuffle=False,\n",
    "        collate_fn=dev_data.collate_fn,\n",
    "        num_workers=num_workers,\n",
    "    )\n",
    "    test_data = DataLoader(\n",
    "        test_data,\n",
    "        batch_size=len(test_data),\n",
    "        shuffle=False,\n",
    "        collate_fn=test_data.collate_fn,\n",
    "        num_workers=num_workers,\n",
    "    )\n",
    "\n",
    "    return (train_data, dev_data, test_data), (train_loop, dev_loop, test_loop), train_data.dataset.dims\n"
   ]
  },
  {
   "cell_type": "code",
   "execution_count": 3,
   "metadata": {},
   "outputs": [],
   "source": [
    "# load dictionary dataset with raw data\n",
    "# for available systems in PSL library check: psl.systems.keys()\n",
    "# for available datasets in PSL library check: psl.datasets.keys()\n",
    "\n",
    "system = 'aero'         # keyword of selected system\n",
    "\n",
    "#  load raw dataset\n",
    "if system in psl.emulators:\n",
    "    data = psl.emulators[system](nsim=nsim, ninit=0, seed=args.data_seed).simulate()\n",
    "elif system in psl.datasets:\n",
    "    data = read_file(psl.datasets[system])\n",
    "else:\n",
    "    data = read_file(system)"
   ]
  },
  {
   "cell_type": "markdown",
   "metadata": {},
   "source": [
    "Processed dataset format:  \n",
    "nsim = number of time steps in the dataset time series  \n",
    "nsteps = legth of the prediction horizon  \n",
    "Y = observed outputs  \n",
    "U = inputs  \n",
    "D = disturbances  \n",
    "Yp = past trajectories generated as Y[0:-nsteps]  \n",
    "Yf = future trajectories generated as Y[nesteps:]  \n",
    "data format in dataset dictionaries: train_data['key']: torch.Size([batch size (prediction horizon), number of batches, number of variables])"
   ]
  },
  {
   "cell_type": "code",
   "execution_count": 4,
   "metadata": {},
   "outputs": [],
   "source": [
    "#  Train, Development, Test sets - nstep and loop format\n",
    "nstep_data, loop_data, dims = get_sequence_dataloaders(data, params['nsteps'])\n",
    "train_data, dev_data, test_data = nstep_data\n",
    "train_loop, dev_loop, test_loop = loop_data\n",
    "\n",
    "# input, output dimensions\n",
    "nu = dims['U'][1]\n",
    "ny = dims['Y'][1]"
   ]
  },
  {
   "cell_type": "markdown",
   "metadata": {},
   "source": [
    "## State Estimator\n",
    "\n",
    "To generate initial states during $N$-step training, we make use of state estimators which use the past outputs of the system to estimate the next state variable. NeuroMANCER provides a host of parametric state estimators for this purpose; in this case, we'll use a fully connected neural network. Each state estimator in neuromancer.estimators represents more generic component class representing arbitrary nn.Module with input_keys and output_keys for mapping neuromancer variabels.  \n",
    "For more details see components and constraints tutorials."
   ]
  },
  {
   "cell_type": "code",
   "execution_count": 5,
   "metadata": {},
   "outputs": [
    {
     "name": "stdout",
     "output_type": "stream",
     "text": [
      "['Yp']\n",
      "['x0_estimator', 'reg_error_estimator']\n",
      "estimator(Yp) -> x0_estimator, reg_error_estimator\n"
     ]
    }
   ],
   "source": [
    "activation = activations['relu']\n",
    "linmap = slim.maps['linear']\n",
    "\n",
    "nx = 90  # siz e of the latent variables\n",
    "estimator = estimators.MLPEstimator(\n",
    "    {**dims, \"x0\": (nx,)},\n",
    "    nsteps=params['nsteps'],  # future window Nf\n",
    "    window_size=params['nsteps'],  # past window Np <= Nf\n",
    "    bias=True,\n",
    "    linear_map=linmap,\n",
    "    nonlin=activation,\n",
    "    hsizes=[90, 120, 90],\n",
    "    input_keys=[\"Yp\"],\n",
    "    linargs={},\n",
    "    name='estimator',\n",
    ")\n",
    "\n",
    "# input output keys of the estimator \n",
    "print(estimator.input_keys)\n",
    "print(estimator.output_keys)\n",
    "\n",
    "# dynamics_model mapping of input keys to output keys\n",
    "print(estimator)\n",
    "# x0 = estimator(Yp)\n",
    "# x0: initial values of latent variables estimated from time lagged outputs Yp"
   ]
  },
  {
   "cell_type": "markdown",
   "metadata": {},
   "source": [
    "## State Space Model\n",
    "\n",
    "Next, we define our block-structured state space model (SSM) as neuromancer component. These models divide system dynamics into separate functional components to decouple the behaviors of inputs, state transitions, and outputs. Using the `BlockSSM` constructor, we can build SSMs with arbitrary components, each with their own nonlinearities and structured weight parameterizations.  \n",
    "For more details on how to construct arbitrary acyclic computational graphs with see components tutorial."
   ]
  },
  {
   "cell_type": "code",
   "execution_count": 6,
   "metadata": {},
   "outputs": [
    {
     "name": "stdout",
     "output_type": "stream",
     "text": [
      "['Uf', 'Yf', 'x0_estimator']\n",
      "['fU_dynamics', 'X_pred_dynamics', 'Y_pred_dynamics', 'reg_error_dynamics']\n",
      "dynamics(Uf, Yf, x0_estimator) -> fU_dynamics, X_pred_dynamics, Y_pred_dynamics, reg_error_dynamics\n"
     ]
    }
   ],
   "source": [
    "# define blocks\n",
    "fx = blocks.RNN(nx, nx, linear_map=linmap,\n",
    "                nonlin=activations['softexp'], hsizes=[60, 60])\n",
    "linargs = {\"sigma_min\": 0.5, \"sigma_max\": 1.0}\n",
    "fy = slim.maps['softSVD'](nx, ny, linargs=linargs)\n",
    "fu = blocks.MLP(nu, nx, hsizes=[60, 60]) if nu != 0 else None\n",
    "\n",
    "# define state space model\n",
    "dynamics_model = dynamics.BlockSSM(fx, fy, fu=fu, name='dynamics', xou=torch.add,\n",
    "                                   input_key_map={\"x0\" : f\"x0_{estimator.name}\"})\n",
    "\n",
    "# input output keys of the SSM \n",
    "print(dynamics_model.input_keys)\n",
    "print(dynamics_model.output_keys)\n",
    "\n",
    "# dynamics_model mapping of input keys to output keys\n",
    "print(dynamics_model)\n",
    "# Yf = dynamics_model(x0, Uf)\n",
    "# Uf: future control actions\n",
    "# Yf: predicted outputs"
   ]
  },
  {
   "cell_type": "markdown",
   "metadata": {},
   "source": [
    "## Neuromancer Variables\n",
    "Here we leverage Neuromancer's variable abstraction for intuitive high-level definition of objective temrs and constraints. Each variable has assigned uniqye name that either exists as a key in the dataset dictionary (e.g., \"Yf\"), or is listed as output key in one of our components."
   ]
  },
  {
   "cell_type": "code",
   "execution_count": 7,
   "metadata": {},
   "outputs": [],
   "source": [
    "# bounds\n",
    "xmin = -0.2\n",
    "xmax = 1.2\n",
    "dxudmin = -0.5\n",
    "dxudmax = 0.5\n",
    "\n",
    "# loss terms and constraints definition via variable class: neuromancer variable declaration\n",
    "yhat = Variable(f\"Y_pred_{dynamics_model.name}\")\n",
    "y = Variable(\"Yf\")\n",
    "x0 = Variable(f\"x0_{estimator.name}\")\n",
    "xhat = Variable(f\"X_pred_{dynamics_model.name}\")\n",
    "est_reg = Variable(f\"reg_error_{estimator.name}\")\n",
    "dyn_reg = Variable(f\"reg_error_{dynamics_model.name}\")"
   ]
  },
  {
   "cell_type": "markdown",
   "metadata": {},
   "source": [
    "## Objective Terms\n",
    "To optimize the weights of our model, we first use mean-squared error as our objective to minimize the error between ground-truth observables and those predicted by our SSM. We additionally impose a loss on the estimator that ensures its state predictions align with ground-truth state observations. Further we add state smoothening penalty, and regularizations terms imposed on the model weights.  \n",
    "\n",
    "In addition to minimizing the mean-squared error of predicted and expected observables, we may also want to impose further constraints on different model components to enforce certain model behaviors. Our first constraint will ensure the smoothness of state transitions by minimizing the mean-squared error between consecutive state predictions. Our second and third constraints impose lower and upper bounds on output observations, specifically the interval $[-0.2, 1.2]$.\n",
    "\n",
    "For more details see constraints tutorial."
   ]
  },
  {
   "cell_type": "code",
   "execution_count": 8,
   "metadata": {},
   "outputs": [],
   "source": [
    "# define loss function terms\n",
    "reference_loss = params['Q_y']*((yhat == y)^2)\n",
    "estimator_loss = params['Q_e']*((x0[1:] == xhat[-1, :-1, :])^2)\n",
    "state_smoothing = params['Q_dx']*((xhat[1:] == xhat[:-1])^2)\n",
    "regularization = params['Q_sub']*((est_reg + dyn_reg == 0)^2)\n",
    "# define constraints\n",
    "observation_lower_bound_penalty = params['Q_con_x']*(yhat > xmin)\n",
    "observation_upper_bound_penalty = params['Q_con_x']*(yhat < xmax)\n",
    "# custom loss and constraints names used as metrics\n",
    "reference_loss.name = \"ref_loss\"\n",
    "estimator_loss.name = \"arrival_cost\"\n",
    "regularization.name = \"reg_error\"\n",
    "observation_lower_bound_penalty.name = \"y_low_bound_error\"\n",
    "observation_upper_bound_penalty.name = \"y_up_bound_error\""
   ]
  },
  {
   "cell_type": "markdown",
   "metadata": {},
   "source": [
    "## Putting It All Together\n",
    "\n",
    "Having defined our model components, objective terms, and constraints, we can now combine each into an optimization problem using NeuroMANCER's `Problem` class. This will produce our final model, connecting all of the underlying components necessary to process our data, generate predictions, and optimize the model components."
   ]
  },
  {
   "cell_type": "code",
   "execution_count": 9,
   "metadata": {},
   "outputs": [],
   "source": [
    "# list of objectives and constraints\n",
    "objectives = [regularization, reference_loss, estimator_loss]\n",
    "constraints = [\n",
    "    state_smoothing,\n",
    "    observation_lower_bound_penalty,\n",
    "    observation_upper_bound_penalty,\n",
    "]\n",
    "# list of components\n",
    "components = [estimator, dynamics_model]\n",
    "# constrained optimization problem = objectives + constraints + components\n",
    "model = Problem(objectives, constraints, components)\n",
    "model = model.to(device)"
   ]
  },
  {
   "cell_type": "code",
   "execution_count": 10,
   "metadata": {},
   "outputs": [],
   "source": [
    "import mlflow\n",
    "mlflow.end_run()"
   ]
  },
  {
   "cell_type": "code",
   "execution_count": 11,
   "metadata": {},
   "outputs": [],
   "source": [
    "# define logger\n",
    "# logger = BasicLogger(args=None, savedir= params['savedir'], verbosity=1, stdout=params['metrics'])\n",
    "\n",
    "# MLFlow Logger\n",
    "from argparse import Namespace\n",
    "\n",
    "args = Namespace()\n",
    "args.location='pnl_dadaist_store'\n",
    "args.exp='mlflow-test'\n",
    "args.run='test_run_4'\n",
    "logger = MLFlowLogger(args, verbosity=50,  savedir='test', stdout=[\"nstep_dev_ssm_loss\", \n",
    "                                                           \"open_dev_ssm_loss\"])\n"
   ]
  },
  {
   "cell_type": "markdown",
   "metadata": {},
   "source": [
    "## Training Our Model\n",
    "\n",
    "For training models, NeuroMANCER provides a `Trainer` class which encapsulates all of the training and evaluation logic necessary for $N$-step training, and additionally provides options for experiment logging, visualization, and roll-out simulation in the loop. To get started, we instantiate PyTorch's AdamW optimizer with our model's parameters. We then provide some components which are specific to the NeuroMANCER training regime:\n",
    "\n",
    "* The `OpenLoopSimulator` is used to simulate a full roll-out of the SSM starting from a single initial state. Unlike the $N$-step simulation used during training, this is meant to evaluate the performance of the model in a free-running manner rather than over short windows of time.\n",
    "* The `BasicLogger` is used to output user-specified metrics during training and evaluation. It also handles saving model checkpoints.\n",
    "* The `VisualizerOpen` class generates plots showing predicted vs. ground-truth outputs for both $N$-step and open-loop model simulations, providing a useful visual assessment of model performance.\n",
    "\n",
    "With all of these components defined, we can then instantiate our `Trainer` class. We provide the model and dataset, the optimizer, and the aforementioned helper components. We additionally specify the number of epochs, an evaluation metric used to determine the best-performing model, and a patience value; this latter value determines how many epochs should be completed without any improvement in the evaluation metric before discontinuing training in order to avoid overfitting and wasted computation."
   ]
  },
  {
   "cell_type": "code",
   "execution_count": 12,
   "metadata": {},
   "outputs": [
    {
     "name": "stdout",
     "output_type": "stream",
     "text": [
      "Number of parameters: 85022\n"
     ]
    }
   ],
   "source": [
    "# define callback\n",
    "simulator = OpenLoopSimulator(\n",
    "    model, train_loop, dev_loop, test_loop, eval_sim=True, device=device,\n",
    ") if isinstance(train_loop, dict) else MultiSequenceOpenLoopSimulator(\n",
    "    model, train_loop, dev_loop, test_loop, eval_sim=False, device=device,\n",
    ")\n",
    "visualizer = VisualizerOpen(\n",
    "    dynamics_model,\n",
    "    1,\n",
    "    params['savedir'],\n",
    "    training_visuals=False,\n",
    "    trace_movie=False,\n",
    ")\n",
    "callback = SysIDCallback(simulator, visualizer)\n",
    "# select optimizer\n",
    "optimizer = torch.optim.AdamW(model.parameters(), lr=params['lr'])\n",
    "\n",
    "# define trainer\n",
    "trainer = Trainer(\n",
    "    model,\n",
    "    train_data,\n",
    "    dev_data,\n",
    "    test_data,\n",
    "    optimizer,\n",
    "    callback=callback,\n",
    "    logger=logger,\n",
    "    epochs=params['epochs'],\n",
    "    eval_metric=params['eval_metric'],\n",
    "    patience=params['patience'],\n",
    "    warmup=params['warmup'],\n",
    "    device=device,\n",
    ")"
   ]
  },
  {
   "cell_type": "markdown",
   "metadata": {},
   "source": [
    "Now we enter the training loop by calling the `train()` method on the `trainer` object; upon training completion, this method will return the best-observed model according to the evaluation metric specified previously."
   ]
  },
  {
   "cell_type": "code",
   "execution_count": 13,
   "metadata": {},
   "outputs": [
    {
     "name": "stdout",
     "output_type": "stream",
     "text": [
      "epoch: 0\teltime:  0.27463\n",
      "epoch: 50\teltime:  43.71983\n",
      "epoch: 100\teltime:  86.72815\n",
      "epoch: 150\teltime:  129.56619\n",
      "epoch: 200\teltime:  172.16546\n",
      "epoch: 250\teltime:  214.95794\n"
     ]
    }
   ],
   "source": [
    "best_model = trainer.train()"
   ]
  },
  {
   "cell_type": "code",
   "execution_count": 14,
   "metadata": {},
   "outputs": [],
   "source": [
    "# TODO: KeyError: 'loop_dev_loss'"
   ]
  },
  {
   "cell_type": "markdown",
   "metadata": {},
   "source": [
    "## Model Evaluation\n",
    "Once training has concluded and the best model has been returned by the trainer, we can call the `evaluate()` method with the best model to evaluate the model's $N$-step and open-loop performance and use the visualizer to generate trace plots for both.\n",
    "\n",
    "Below, the model's $N$-step traces (top) and open-loop (bottom) traces are shown."
   ]
  },
  {
   "cell_type": "code",
   "execution_count": 15,
   "metadata": {},
   "outputs": [
    {
     "name": "stdout",
     "output_type": "stream",
     "text": [
      "epoch: 0\teltime:  262.15751\n"
     ]
    },
    {
     "data": {
      "image/png": "[encoded data removed]",
      "text/plain": [
       "<Figure size 432x288 with 5 Axes>"
      ]
     },
     "metadata": {},
     "output_type": "display_data"
    },
    {
     "data": {
      "image/png": "[encoded data removed]",
      "text/plain": [
       "<Figure size 432x288 with 5 Axes>"
      ]
     },
     "metadata": {},
     "output_type": "display_data"
    }
   ],
   "source": [
    "best_outputs = trainer.test(best_model)"
   ]
  },
  {
   "cell_type": "code",
   "execution_count": 16,
   "metadata": {},
   "outputs": [],
   "source": [
    "logger.clean_up()"
   ]
  }
 ],
 "metadata": {
  "kernelspec": {
   "display_name": "neuromancer",
   "language": "python",
   "name": "neuromancer"
  },
  "language_info": {
   "codemirror_mode": {
    "name": "ipython",
    "version": 3
   },
   "file_extension": ".py",
   "mimetype": "text/x-python",
   "name": "python",
   "nbconvert_exporter": "python",
   "pygments_lexer": "ipython3",
   "version": "3.8.8"
  }
 },
 "nbformat": 4,
 "nbformat_minor": 2
}
